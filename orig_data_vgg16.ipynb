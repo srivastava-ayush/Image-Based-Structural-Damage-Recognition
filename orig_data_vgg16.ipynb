{
 "cells": [
  {
   "cell_type": "code",
   "execution_count": 1,
   "metadata": {},
   "outputs": [
    {
     "name": "stderr",
     "output_type": "stream",
     "text": [
      "C:\\Users\\sayus\\miniconda3\\envs\\te\\lib\\site-packages\\tensorflow\\python\\framework\\dtypes.py:516: FutureWarning: Passing (type, 1) or '1type' as a synonym of type is deprecated; in a future version of numpy, it will be understood as (type, (1,)) / '(1,)type'.\n",
      "  _np_qint8 = np.dtype([(\"qint8\", np.int8, 1)])\n",
      "C:\\Users\\sayus\\miniconda3\\envs\\te\\lib\\site-packages\\tensorflow\\python\\framework\\dtypes.py:517: FutureWarning: Passing (type, 1) or '1type' as a synonym of type is deprecated; in a future version of numpy, it will be understood as (type, (1,)) / '(1,)type'.\n",
      "  _np_quint8 = np.dtype([(\"quint8\", np.uint8, 1)])\n",
      "C:\\Users\\sayus\\miniconda3\\envs\\te\\lib\\site-packages\\tensorflow\\python\\framework\\dtypes.py:518: FutureWarning: Passing (type, 1) or '1type' as a synonym of type is deprecated; in a future version of numpy, it will be understood as (type, (1,)) / '(1,)type'.\n",
      "  _np_qint16 = np.dtype([(\"qint16\", np.int16, 1)])\n",
      "C:\\Users\\sayus\\miniconda3\\envs\\te\\lib\\site-packages\\tensorflow\\python\\framework\\dtypes.py:519: FutureWarning: Passing (type, 1) or '1type' as a synonym of type is deprecated; in a future version of numpy, it will be understood as (type, (1,)) / '(1,)type'.\n",
      "  _np_quint16 = np.dtype([(\"quint16\", np.uint16, 1)])\n",
      "C:\\Users\\sayus\\miniconda3\\envs\\te\\lib\\site-packages\\tensorflow\\python\\framework\\dtypes.py:520: FutureWarning: Passing (type, 1) or '1type' as a synonym of type is deprecated; in a future version of numpy, it will be understood as (type, (1,)) / '(1,)type'.\n",
      "  _np_qint32 = np.dtype([(\"qint32\", np.int32, 1)])\n",
      "C:\\Users\\sayus\\miniconda3\\envs\\te\\lib\\site-packages\\tensorflow\\python\\framework\\dtypes.py:525: FutureWarning: Passing (type, 1) or '1type' as a synonym of type is deprecated; in a future version of numpy, it will be understood as (type, (1,)) / '(1,)type'.\n",
      "  np_resource = np.dtype([(\"resource\", np.ubyte, 1)])\n",
      "C:\\Users\\sayus\\miniconda3\\envs\\te\\lib\\site-packages\\tensorboard\\compat\\tensorflow_stub\\dtypes.py:541: FutureWarning: Passing (type, 1) or '1type' as a synonym of type is deprecated; in a future version of numpy, it will be understood as (type, (1,)) / '(1,)type'.\n",
      "  _np_qint8 = np.dtype([(\"qint8\", np.int8, 1)])\n",
      "C:\\Users\\sayus\\miniconda3\\envs\\te\\lib\\site-packages\\tensorboard\\compat\\tensorflow_stub\\dtypes.py:542: FutureWarning: Passing (type, 1) or '1type' as a synonym of type is deprecated; in a future version of numpy, it will be understood as (type, (1,)) / '(1,)type'.\n",
      "  _np_quint8 = np.dtype([(\"quint8\", np.uint8, 1)])\n",
      "C:\\Users\\sayus\\miniconda3\\envs\\te\\lib\\site-packages\\tensorboard\\compat\\tensorflow_stub\\dtypes.py:543: FutureWarning: Passing (type, 1) or '1type' as a synonym of type is deprecated; in a future version of numpy, it will be understood as (type, (1,)) / '(1,)type'.\n",
      "  _np_qint16 = np.dtype([(\"qint16\", np.int16, 1)])\n",
      "C:\\Users\\sayus\\miniconda3\\envs\\te\\lib\\site-packages\\tensorboard\\compat\\tensorflow_stub\\dtypes.py:544: FutureWarning: Passing (type, 1) or '1type' as a synonym of type is deprecated; in a future version of numpy, it will be understood as (type, (1,)) / '(1,)type'.\n",
      "  _np_quint16 = np.dtype([(\"quint16\", np.uint16, 1)])\n",
      "C:\\Users\\sayus\\miniconda3\\envs\\te\\lib\\site-packages\\tensorboard\\compat\\tensorflow_stub\\dtypes.py:545: FutureWarning: Passing (type, 1) or '1type' as a synonym of type is deprecated; in a future version of numpy, it will be understood as (type, (1,)) / '(1,)type'.\n",
      "  _np_qint32 = np.dtype([(\"qint32\", np.int32, 1)])\n",
      "C:\\Users\\sayus\\miniconda3\\envs\\te\\lib\\site-packages\\tensorboard\\compat\\tensorflow_stub\\dtypes.py:550: FutureWarning: Passing (type, 1) or '1type' as a synonym of type is deprecated; in a future version of numpy, it will be understood as (type, (1,)) / '(1,)type'.\n",
      "  np_resource = np.dtype([(\"resource\", np.ubyte, 1)])\n"
     ]
    }
   ],
   "source": [
    "import  tensorflow as tf\n",
    "import numpy as np\n",
    "from sklearn.model_selection import train_test_split\n",
    "from tensorflow.keras.utils import to_categorical\n",
    "from tensorflow.keras.preprocessing.image import ImageDataGenerator\n",
    "from matplotlib import pyplot as plt\n",
    "import cv2 as cv\n",
    "from collections import Counter\n",
    "from sklearn.utils import class_weight\n",
    "from sklearn.metrics import confusion_matrix"
   ]
  },
  {
   "cell_type": "code",
   "execution_count": 2,
   "metadata": {},
   "outputs": [],
   "source": [
    "import os"
   ]
  },
  {
   "cell_type": "code",
   "execution_count": 7,
   "metadata": {},
   "outputs": [],
   "source": [
    "x=np.load('Dataset/all_7/x_train.npy')\n",
    "y=np.load('Dataset/all_7/y_train.npy')\n",
    "# x=[]\n",
    "# y=[]\n",
    "# c=0\n",
    "# path='image_data/task7/after_augmentation'\n",
    "# for image in os.listdir(os.path.join(path, 'no_damage')):\n",
    "#     img=cv.imread(os.path.join(path,'no_damage', image),1)\n",
    "#     x.append(img)\n",
    "#     y.append(0)\n",
    "#     c=c+1\n",
    "# print(\"complete :\", c)\n",
    "# c=0\n",
    "# for image in os.listdir(os.path.join(path, 'flexural')):\n",
    "#     img=cv.imread(os.path.join(path,'flexural', image),1)\n",
    "#     x.append(img)\n",
    "#     y.append(1)\n",
    "#     c=c+1\n",
    "# print(\"complete :\", c)\n",
    "# c=0\n",
    "# for image in os.listdir(os.path.join(path, 'shear')):\n",
    "#     img=cv.imread(os.path.join(path,'shear', image),1)\n",
    "#     x.append(img)\n",
    "#     y.append(2)\n",
    "#     c=c+1\n",
    "# print(\"complete :\", c)\n",
    "# c=0\n",
    "# for image in os.listdir(os.path.join(path, 'combined')):\n",
    "#     img=cv.imread(os.path.join(path,'combined', image),1)\n",
    "#     x.append(img)\n",
    "#     y.append(3)\n",
    "#     c=c+1\n",
    "# print(\"complete :\", c)\n",
    "# x=np.array(x)\n",
    "# y=np.array(y)"
   ]
  },
  {
   "cell_type": "code",
   "execution_count": 9,
   "metadata": {},
   "outputs": [
    {
     "data": {
      "text/plain": [
       "((2632, 224, 224, 3), (2632,))"
      ]
     },
     "execution_count": 9,
     "metadata": {},
     "output_type": "execute_result"
    }
   ],
   "source": [
    "x.shape, y.shape"
   ]
  },
  {
   "cell_type": "code",
   "execution_count": 10,
   "metadata": {},
   "outputs": [
    {
     "data": {
      "text/plain": [
       "array([[[[ -48.939003 ,  -55.779    ,  -51.68     ],\n",
       "         [ -50.939003 ,  -57.779    ,  -53.68     ],\n",
       "         [ -52.939003 ,  -59.779    ,  -55.68     ],\n",
       "         ...,\n",
       "         [ -85.939    , -102.779    , -110.68     ],\n",
       "         [ -85.939    , -102.779    , -110.68     ],\n",
       "         [ -85.939    , -102.779    , -110.68     ]],\n",
       "\n",
       "        [[ -43.939003 ,  -50.779    ,  -46.68     ],\n",
       "         [ -45.939003 ,  -52.779    ,  -48.68     ],\n",
       "         [ -47.939003 ,  -54.779    ,  -50.68     ],\n",
       "         ...,\n",
       "         [ -84.939    , -101.779    , -109.68     ],\n",
       "         [ -85.939    , -102.779    , -110.68     ],\n",
       "         [ -85.939    , -102.779    , -110.68     ]],\n",
       "\n",
       "        [[ -36.939003 ,  -43.779    ,  -39.68     ],\n",
       "         [ -38.939003 ,  -45.779    ,  -41.68     ],\n",
       "         [ -41.939003 ,  -48.779    ,  -44.68     ],\n",
       "         ...,\n",
       "         [ -84.939    , -101.779    , -109.68     ],\n",
       "         [ -84.939    , -101.779    , -109.68     ],\n",
       "         [ -84.939    , -101.779    , -109.68     ]],\n",
       "\n",
       "        ...,\n",
       "\n",
       "        [[ -84.939    ,  -97.779    , -104.68     ],\n",
       "         [ -85.939    ,  -98.779    , -105.68     ],\n",
       "         [ -86.939    ,  -97.779    , -103.68     ],\n",
       "         ...,\n",
       "         [ -84.939    , -100.779    , -105.68     ],\n",
       "         [ -87.939    , -100.779    , -107.68     ],\n",
       "         [ -88.939    , -101.779    , -108.68     ]],\n",
       "\n",
       "        [[ -84.939    ,  -97.779    , -104.68     ],\n",
       "         [ -85.939    ,  -98.779    , -105.68     ],\n",
       "         [ -86.939    ,  -97.779    , -103.68     ],\n",
       "         ...,\n",
       "         [ -83.939    ,  -99.779    , -104.68     ],\n",
       "         [ -87.939    , -100.779    , -107.68     ],\n",
       "         [ -88.939    , -101.779    , -108.68     ]],\n",
       "\n",
       "        [[ -83.939    ,  -96.779    , -103.68     ],\n",
       "         [ -85.939    ,  -98.779    , -105.68     ],\n",
       "         [ -86.939    ,  -97.779    , -103.68     ],\n",
       "         ...,\n",
       "         [ -82.939    ,  -98.779    , -103.68     ],\n",
       "         [ -87.939    , -100.779    , -107.68     ],\n",
       "         [ -87.939    , -100.779    , -107.68     ]]],\n",
       "\n",
       "\n",
       "       [[[   8.060997 ,   -3.7789993,   -6.6800003],\n",
       "         [  15.060997 ,    3.2210007,    0.3199997],\n",
       "         [  16.060997 ,    2.2210007,   -2.6800003],\n",
       "         ...,\n",
       "         [ -58.939003 ,  -62.779    ,  -60.68     ],\n",
       "         [ -67.939    ,  -72.779    ,  -62.68     ],\n",
       "         [ -35.939003 ,  -41.779    ,  -29.68     ]],\n",
       "\n",
       "        [[   7.060997 ,   -4.7789993,   -7.6800003],\n",
       "         [  13.060997 ,    1.2210007,   -1.6800003],\n",
       "         [  13.060997 ,   -0.7789993,   -5.6800003],\n",
       "         ...,\n",
       "         [ -56.939003 ,  -60.779    ,  -57.68     ],\n",
       "         [ -65.939    ,  -70.779    ,  -60.68     ],\n",
       "         [ -36.939003 ,  -42.779    ,  -30.68     ]],\n",
       "\n",
       "        [[   7.060997 ,   -4.7789993,   -7.6800003],\n",
       "         [  10.060997 ,   -1.7789993,   -4.6800003],\n",
       "         [  11.060997 ,   -2.7789993,   -7.6800003],\n",
       "         ...,\n",
       "         [ -53.939003 ,  -57.779    ,  -54.68     ],\n",
       "         [ -61.939003 ,  -66.779    ,  -56.68     ],\n",
       "         [ -37.939003 ,  -43.779    ,  -30.68     ]],\n",
       "\n",
       "        ...,\n",
       "\n",
       "        [[ -30.939003 ,  -29.779    ,  -48.68     ],\n",
       "         [ -42.939003 ,  -40.779    ,  -61.68     ],\n",
       "         [ -52.939003 ,  -53.779    ,  -78.68     ],\n",
       "         ...,\n",
       "         [ -22.939003 ,  -38.779    ,  -43.68     ],\n",
       "         [ -36.939003 ,  -54.779    ,  -59.68     ],\n",
       "         [ -66.939    ,  -84.779    ,  -89.68     ]],\n",
       "\n",
       "        [[ -15.939003 ,  -14.778999 ,  -27.68     ],\n",
       "         [ -20.939003 ,  -20.779    ,  -35.68     ],\n",
       "         [ -29.939003 ,  -32.779    ,  -51.68     ],\n",
       "         ...,\n",
       "         [ -23.939003 ,  -39.779    ,  -44.68     ],\n",
       "         [ -35.939003 ,  -53.779    ,  -58.68     ],\n",
       "         [ -63.939003 ,  -81.779    ,  -86.68     ]],\n",
       "\n",
       "        [[ -10.939003 ,   -9.778999 ,  -20.68     ],\n",
       "         [  -7.939003 ,   -8.778999 ,  -21.68     ],\n",
       "         [ -10.939003 ,  -12.778999 ,  -29.68     ],\n",
       "         ...,\n",
       "         [ -24.939003 ,  -40.779    ,  -45.68     ],\n",
       "         [ -35.939003 ,  -53.779    ,  -58.68     ],\n",
       "         [ -62.939003 ,  -80.779    ,  -85.68     ]]],\n",
       "\n",
       "\n",
       "       [[[ -30.939003 ,  -32.779    ,    4.3199997],\n",
       "         [ -28.939003 ,  -29.779    ,    5.3199997],\n",
       "         [ -23.939003 ,  -24.779    ,   10.32     ],\n",
       "         ...,\n",
       "         [ -49.939003 ,  -46.779    ,   12.32     ],\n",
       "         [ -49.939003 ,  -46.779    ,   12.32     ],\n",
       "         [ -52.939003 ,  -49.779    ,    9.32     ]],\n",
       "\n",
       "        [[ -29.939003 ,  -31.779    ,    5.3199997],\n",
       "         [ -30.939003 ,  -31.779    ,    3.3199997],\n",
       "         [ -26.939003 ,  -27.779    ,    5.3199997],\n",
       "         ...,\n",
       "         [ -47.939003 ,  -44.779    ,   14.32     ],\n",
       "         [ -50.939003 ,  -47.779    ,   11.32     ],\n",
       "         [ -54.939003 ,  -51.779    ,    7.3199997]],\n",
       "\n",
       "        [[ -30.939003 ,  -31.779    ,    3.3199997],\n",
       "         [ -33.939003 ,  -34.779    ,    0.3199997],\n",
       "         [ -32.939003 ,  -33.779    ,   -0.6800003],\n",
       "         ...,\n",
       "         [ -47.939003 ,  -42.779    ,   15.32     ],\n",
       "         [ -48.939003 ,  -43.779    ,   14.32     ],\n",
       "         [ -51.939003 ,  -46.779    ,   11.32     ]],\n",
       "\n",
       "        ...,\n",
       "\n",
       "        [[ -20.939003 ,  -10.778999 ,   60.32     ],\n",
       "         [ -30.939003 ,  -20.779    ,   50.32     ],\n",
       "         [ -37.939003 ,  -27.779    ,   43.32     ],\n",
       "         ...,\n",
       "         [ -48.939003 ,  -42.779    ,   17.32     ],\n",
       "         [ -50.939003 ,  -43.779    ,   14.32     ],\n",
       "         [ -46.939003 ,  -39.779    ,   18.32     ]],\n",
       "\n",
       "        [[ -23.939003 ,  -13.778999 ,   57.32     ],\n",
       "         [ -32.939003 ,  -22.779    ,   48.32     ],\n",
       "         [ -39.939003 ,  -29.779    ,   41.32     ],\n",
       "         ...,\n",
       "         [ -48.939003 ,  -42.779    ,   17.32     ],\n",
       "         [ -49.939003 ,  -42.779    ,   15.32     ],\n",
       "         [ -45.939003 ,  -38.779    ,   19.32     ]],\n",
       "\n",
       "        [[ -26.939003 ,  -16.779    ,   54.32     ],\n",
       "         [ -35.939003 ,  -25.779    ,   45.32     ],\n",
       "         [ -41.939003 ,  -31.779    ,   39.32     ],\n",
       "         ...,\n",
       "         [ -48.939003 ,  -42.779    ,   17.32     ],\n",
       "         [ -49.939003 ,  -42.779    ,   15.32     ],\n",
       "         [ -45.939003 ,  -38.779    ,   19.32     ]]],\n",
       "\n",
       "\n",
       "       ...,\n",
       "\n",
       "\n",
       "       [[[ 123.061    ,  106.221    ,   94.32     ],\n",
       "         [ 123.061    ,  106.221    ,   94.32     ],\n",
       "         [ 123.061    ,  106.221    ,   94.32     ],\n",
       "         ...,\n",
       "         [ 114.061    ,   98.221    ,   87.32     ],\n",
       "         [ 114.061    ,   98.221    ,   87.32     ],\n",
       "         [ 114.061    ,   98.221    ,   87.32     ]],\n",
       "\n",
       "        [[ 123.061    ,  106.221    ,   94.32     ],\n",
       "         [ 123.061    ,  106.221    ,   94.32     ],\n",
       "         [ 123.061    ,  106.221    ,   94.32     ],\n",
       "         ...,\n",
       "         [ 114.061    ,   98.221    ,   87.32     ],\n",
       "         [ 114.061    ,   98.221    ,   87.32     ],\n",
       "         [ 114.061    ,   98.221    ,   87.32     ]],\n",
       "\n",
       "        [[ 123.061    ,  106.221    ,   94.32     ],\n",
       "         [ 123.061    ,  106.221    ,   94.32     ],\n",
       "         [ 123.061    ,  106.221    ,   94.32     ],\n",
       "         ...,\n",
       "         [ 114.061    ,   98.221    ,   87.32     ],\n",
       "         [ 114.061    ,   98.221    ,   87.32     ],\n",
       "         [ 114.061    ,   98.221    ,   87.32     ]],\n",
       "\n",
       "        ...,\n",
       "\n",
       "        [[  74.061    ,   61.221    ,   54.32     ],\n",
       "         [  74.061    ,   61.221    ,   54.32     ],\n",
       "         [  75.061    ,   62.221    ,   55.32     ],\n",
       "         ...,\n",
       "         [  34.060997 ,   34.221    ,   35.32     ],\n",
       "         [  29.060997 ,   30.221    ,   29.32     ],\n",
       "         [  14.060997 ,   15.221001 ,   14.32     ]],\n",
       "\n",
       "        [[  73.061    ,   60.221    ,   53.32     ],\n",
       "         [  73.061    ,   60.221    ,   53.32     ],\n",
       "         [  73.061    ,   60.221    ,   53.32     ],\n",
       "         ...,\n",
       "         [  34.060997 ,   37.221    ,   37.32     ],\n",
       "         [  25.060997 ,   28.221    ,   28.32     ],\n",
       "         [   6.060997 ,    9.221001 ,    9.32     ]],\n",
       "\n",
       "        [[  72.061    ,   59.221    ,   52.32     ],\n",
       "         [  72.061    ,   59.221    ,   52.32     ],\n",
       "         [  72.061    ,   59.221    ,   52.32     ],\n",
       "         ...,\n",
       "         [   1.060997 ,    4.2210007,    4.3199997],\n",
       "         [   7.060997 ,   10.221001 ,   10.32     ],\n",
       "         [  20.060997 ,   23.221    ,   23.32     ]]],\n",
       "\n",
       "\n",
       "       [[[ -28.939003 ,  -31.779    ,  -50.68     ],\n",
       "         [ -40.939003 ,  -43.779    ,  -62.68     ],\n",
       "         [ -44.939003 ,  -49.779    ,  -67.68     ],\n",
       "         ...,\n",
       "         [ -20.939003 ,  -34.779    ,  -32.68     ],\n",
       "         [ -19.939003 ,  -36.779    ,  -32.68     ],\n",
       "         [ -26.939003 ,  -43.779    ,  -39.68     ]],\n",
       "\n",
       "        [[ -40.939003 ,  -45.779    ,  -63.68     ],\n",
       "         [ -31.939003 ,  -35.779    ,  -55.68     ],\n",
       "         [ -40.939003 ,  -45.779    ,  -63.68     ],\n",
       "         ...,\n",
       "         [ -39.939003 ,  -53.779    ,  -51.68     ],\n",
       "         [ -42.939003 ,  -59.779    ,  -55.68     ],\n",
       "         [ -45.939003 ,  -62.779    ,  -58.68     ]],\n",
       "\n",
       "        [[ -42.939003 ,  -48.779    ,  -68.68     ],\n",
       "         [ -25.939003 ,  -31.779    ,  -53.68     ],\n",
       "         [ -38.939003 ,  -44.779    ,  -64.68     ],\n",
       "         ...,\n",
       "         [ -58.939003 ,  -72.779    ,  -70.68     ],\n",
       "         [ -64.939    ,  -81.779    ,  -77.68     ],\n",
       "         [ -60.939003 ,  -77.779    ,  -73.68     ]],\n",
       "\n",
       "        ...,\n",
       "\n",
       "        [[ -48.939003 ,  -54.779    ,  -42.68     ],\n",
       "         [ -48.939003 ,  -54.779    ,  -42.68     ],\n",
       "         [ -48.939003 ,  -54.779    ,  -42.68     ],\n",
       "         ...,\n",
       "         [ -28.939003 ,  -25.779    ,  -15.68     ],\n",
       "         [ -28.939003 ,  -25.779    ,  -15.68     ],\n",
       "         [ -28.939003 ,  -25.779    ,  -15.68     ]],\n",
       "\n",
       "        [[ -44.939003 ,  -50.779    ,  -38.68     ],\n",
       "         [ -44.939003 ,  -50.779    ,  -38.68     ],\n",
       "         [ -45.939003 ,  -51.779    ,  -39.68     ],\n",
       "         ...,\n",
       "         [ -35.939003 ,  -32.779    ,  -22.68     ],\n",
       "         [ -35.939003 ,  -32.779    ,  -22.68     ],\n",
       "         [ -34.939003 ,  -31.779    ,  -21.68     ]],\n",
       "\n",
       "        [[ -43.939003 ,  -49.779    ,  -37.68     ],\n",
       "         [ -44.939003 ,  -50.779    ,  -38.68     ],\n",
       "         [ -46.939003 ,  -52.779    ,  -40.68     ],\n",
       "         ...,\n",
       "         [ -32.939003 ,  -29.779    ,  -19.68     ],\n",
       "         [ -31.939003 ,  -28.779    ,  -18.68     ],\n",
       "         [ -29.939003 ,  -26.779    ,  -16.68     ]]],\n",
       "\n",
       "\n",
       "       [[[ -82.939    ,  -88.779    , -100.68     ],\n",
       "         [ -78.939    ,  -84.779    ,  -96.68     ],\n",
       "         [ -75.939    ,  -82.779    ,  -94.68     ],\n",
       "         ...,\n",
       "         [ -37.939003 ,  -57.779    ,  -83.68     ],\n",
       "         [ -23.939003 ,  -43.779    ,  -67.68     ],\n",
       "         [  -2.939003 ,  -22.779    ,  -46.68     ]],\n",
       "\n",
       "        [[-103.939    , -111.779    , -123.68     ],\n",
       "         [ -94.939    , -100.779    , -112.68     ],\n",
       "         [ -78.939    ,  -85.779    ,  -97.68     ],\n",
       "         ...,\n",
       "         [ -38.939003 ,  -58.779    ,  -84.68     ],\n",
       "         [ -24.939003 ,  -44.779    ,  -68.68     ],\n",
       "         [  -5.939003 ,  -25.779    ,  -49.68     ]],\n",
       "\n",
       "        [[ -91.939    ,  -97.779    , -109.68     ],\n",
       "         [-100.939    , -106.779    , -118.68     ],\n",
       "         [-103.939    , -110.779    , -122.68     ],\n",
       "         ...,\n",
       "         [ -38.939003 ,  -58.779    ,  -84.68     ],\n",
       "         [ -26.939003 ,  -46.779    ,  -70.68     ],\n",
       "         [  -9.939003 ,  -29.779    ,  -53.68     ]],\n",
       "\n",
       "        ...,\n",
       "\n",
       "        [[  -4.939003 ,  -23.779    ,  -37.68     ],\n",
       "         [  -6.939003 ,  -25.779    ,  -39.68     ],\n",
       "         [  -7.939003 ,  -26.779    ,  -40.68     ],\n",
       "         ...,\n",
       "         [ -50.939003 ,  -71.779    ,  -85.68     ],\n",
       "         [ -47.939003 ,  -69.779    ,  -80.68     ],\n",
       "         [ -47.939003 ,  -69.779    ,  -80.68     ]],\n",
       "\n",
       "        [[  -2.939003 ,  -23.779    ,  -37.68     ],\n",
       "         [  -6.939003 ,  -27.779    ,  -41.68     ],\n",
       "         [  -8.939003 ,  -29.779    ,  -43.68     ],\n",
       "         ...,\n",
       "         [ -46.939003 ,  -68.779    ,  -79.68     ],\n",
       "         [ -42.939003 ,  -64.779    ,  -75.68     ],\n",
       "         [ -43.939003 ,  -65.779    ,  -76.68     ]],\n",
       "\n",
       "        [[   2.060997 ,  -18.779    ,  -32.68     ],\n",
       "         [  -3.939003 ,  -24.779    ,  -38.68     ],\n",
       "         [  -7.939003 ,  -28.779    ,  -42.68     ],\n",
       "         ...,\n",
       "         [ -50.939003 ,  -72.779    ,  -83.68     ],\n",
       "         [ -46.939003 ,  -68.779    ,  -79.68     ],\n",
       "         [ -48.939003 ,  -70.779    ,  -81.68     ]]]], dtype=float32)"
      ]
     },
     "execution_count": 10,
     "metadata": {},
     "output_type": "execute_result"
    }
   ],
   "source": [
    "x = tf.keras.applications.vgg16.preprocess_input(x)\n",
    "x"
   ]
  },
  {
   "cell_type": "code",
   "execution_count": 11,
   "metadata": {},
   "outputs": [
    {
     "data": {
      "text/plain": [
       "Counter({3: 524, 0: 1502, 2: 400, 1: 206})"
      ]
     },
     "execution_count": 11,
     "metadata": {},
     "output_type": "execute_result"
    }
   ],
   "source": [
    "Counter(y)"
   ]
  },
  {
   "cell_type": "code",
   "execution_count": 12,
   "metadata": {},
   "outputs": [
    {
     "name": "stdout",
     "output_type": "stream",
     "text": [
      "3 0.19908814589665655\n",
      "0 0.5706686930091185\n",
      "2 0.1519756838905775\n",
      "1 0.07826747720364742\n"
     ]
    }
   ],
   "source": [
    "for key, value in Counter(y).items():\n",
    "    print(key, value/y.shape[0])"
   ]
  },
  {
   "cell_type": "code",
   "execution_count": 13,
   "metadata": {},
   "outputs": [
    {
     "name": "stderr",
     "output_type": "stream",
     "text": [
      "Clipping input data to the valid range for imshow with RGB data ([0..1] for floats or [0..255] for integers).\n"
     ]
    },
    {
     "data": {
      "image/png": "[encoded data removed]",
      "text/plain": [
       "<Figure size 432x288 with 1 Axes>"
      ]
     },
     "metadata": {
      "needs_background": "light"
     },
     "output_type": "display_data"
    },
    {
     "name": "stderr",
     "output_type": "stream",
     "text": [
      "Clipping input data to the valid range for imshow with RGB data ([0..1] for floats or [0..255] for integers).\n"
     ]
    },
    {
     "name": "stdout",
     "output_type": "stream",
     "text": [
      "0\n"
     ]
    },
    {
     "data": {
      "image/png": "[encoded data removed]",
      "text/plain": [
       "<Figure size 432x288 with 1 Axes>"
      ]
     },
     "metadata": {
      "needs_background": "light"
     },
     "output_type": "display_data"
    },
    {
     "name": "stderr",
     "output_type": "stream",
     "text": [
      "Clipping input data to the valid range for imshow with RGB data ([0..1] for floats or [0..255] for integers).\n"
     ]
    },
    {
     "name": "stdout",
     "output_type": "stream",
     "text": [
      "0\n"
     ]
    },
    {
     "data": {
      "image/png": "[encoded data removed]",
      "text/plain": [
       "<Figure size 432x288 with 1 Axes>"
      ]
     },
     "metadata": {
      "needs_background": "light"
     },
     "output_type": "display_data"
    },
    {
     "name": "stderr",
     "output_type": "stream",
     "text": [
      "Clipping input data to the valid range for imshow with RGB data ([0..1] for floats or [0..255] for integers).\n"
     ]
    },
    {
     "name": "stdout",
     "output_type": "stream",
     "text": [
      "0\n"
     ]
    },
    {
     "data": {
      "image/png": "[encoded data removed]",
      "text/plain": [
       "<Figure size 432x288 with 1 Axes>"
      ]
     },
     "metadata": {
      "needs_background": "light"
     },
     "output_type": "display_data"
    },
    {
     "name": "stderr",
     "output_type": "stream",
     "text": [
      "Clipping input data to the valid range for imshow with RGB data ([0..1] for floats or [0..255] for integers).\n"
     ]
    },
    {
     "name": "stdout",
     "output_type": "stream",
     "text": [
      "0\n"
     ]
    },
    {
     "data": {
      "image/png": "[encoded data removed]",
      "text/plain": [
       "<Figure size 432x288 with 1 Axes>"
      ]
     },
     "metadata": {
      "needs_background": "light"
     },
     "output_type": "display_data"
    },
    {
     "name": "stderr",
     "output_type": "stream",
     "text": [
      "Clipping input data to the valid range for imshow with RGB data ([0..1] for floats or [0..255] for integers).\n"
     ]
    },
    {
     "name": "stdout",
     "output_type": "stream",
     "text": [
      "2\n"
     ]
    },
    {
     "data": {
      "image/png": "[encoded data removed]",
      "text/plain": [
       "<Figure size 432x288 with 1 Axes>"
      ]
     },
     "metadata": {
      "needs_background": "light"
     },
     "output_type": "display_data"
    },
    {
     "name": "stdout",
     "output_type": "stream",
     "text": [
      "0\n"
     ]
    },
    {
     "name": "stderr",
     "output_type": "stream",
     "text": [
      "Clipping input data to the valid range for imshow with RGB data ([0..1] for floats or [0..255] for integers).\n"
     ]
    },
    {
     "data": {
      "image/png": "[encoded data removed]",
      "text/plain": [
       "<Figure size 432x288 with 1 Axes>"
      ]
     },
     "metadata": {
      "needs_background": "light"
     },
     "output_type": "display_data"
    },
    {
     "name": "stderr",
     "output_type": "stream",
     "text": [
      "Clipping input data to the valid range for imshow with RGB data ([0..1] for floats or [0..255] for integers).\n"
     ]
    },
    {
     "name": "stdout",
     "output_type": "stream",
     "text": [
      "3\n"
     ]
    },
    {
     "data": {
      "image/png": "[encoded data removed]",
      "text/plain": [
       "<Figure size 432x288 with 1 Axes>"
      ]
     },
     "metadata": {
      "needs_background": "light"
     },
     "output_type": "display_data"
    },
    {
     "name": "stderr",
     "output_type": "stream",
     "text": [
      "Clipping input data to the valid range for imshow with RGB data ([0..1] for floats or [0..255] for integers).\n"
     ]
    },
    {
     "name": "stdout",
     "output_type": "stream",
     "text": [
      "0\n"
     ]
    },
    {
     "data": {
      "image/png": "[encoded data removed]",
      "text/plain": [
       "<Figure size 432x288 with 1 Axes>"
      ]
     },
     "metadata": {
      "needs_background": "light"
     },
     "output_type": "display_data"
    },
    {
     "name": "stderr",
     "output_type": "stream",
     "text": [
      "Clipping input data to the valid range for imshow with RGB data ([0..1] for floats or [0..255] for integers).\n"
     ]
    },
    {
     "name": "stdout",
     "output_type": "stream",
     "text": [
      "2\n"
     ]
    },
    {
     "data": {
      "image/png": "[encoded data removed]",
      "text/plain": [
       "<Figure size 432x288 with 1 Axes>"
      ]
     },
     "metadata": {
      "needs_background": "light"
     },
     "output_type": "display_data"
    },
    {
     "name": "stdout",
     "output_type": "stream",
     "text": [
      "1\n"
     ]
    }
   ],
   "source": [
    "for i in range(10,20):\n",
    "    plt.imshow(x[i])\n",
    "    plt.show()\n",
    "    print(y[i])"
   ]
  },
  {
   "cell_type": "code",
   "execution_count": 14,
   "metadata": {},
   "outputs": [
    {
     "name": "stdout",
     "output_type": "stream",
     "text": [
      "x_train : (2107, 224, 224, 3)\n",
      "y_train : (2107,)\n",
      "x_test : (264, 224, 224, 3)\n",
      "y_test : (264,)\n",
      "x_val : (261, 224, 224, 3)\n",
      "y_val:  (261,)\n"
     ]
    }
   ],
   "source": [
    "x_train,x_test,y_train,y_test=train_test_split(x,y,test_size=0.10, shuffle=True)\n",
    "x_train,x_val, y_train, y_val=train_test_split(x_train,y_train,test_size=0.11, shuffle=True) \n",
    "print(\"x_train :\", x_train.shape)\n",
    "print(\"y_train :\", y_train.shape)\n",
    "print(\"x_test :\", x_test.shape)\n",
    "print(\"y_test :\", y_test.shape)\n",
    "print(\"x_val :\", x_val.shape)\n",
    "print(\"y_val: \", y_val.shape)"
   ]
  },
  {
   "cell_type": "code",
   "execution_count": 15,
   "metadata": {},
   "outputs": [],
   "source": [
    "y_train=to_categorical(y_train, num_classes=4)\n",
    "y_test=to_categorical(y_test, num_classes=4)\n",
    "y_val=to_categorical(y_val, num_classes=4)"
   ]
  },
  {
   "cell_type": "code",
   "execution_count": 16,
   "metadata": {},
   "outputs": [],
   "source": [
    "# x_train=x_train/255\n",
    "# x_test=x_test/255\n",
    "# x_val=x_val/255"
   ]
  },
  {
   "cell_type": "code",
   "execution_count": 17,
   "metadata": {},
   "outputs": [],
   "source": [
    "es_callback = tf.keras.callbacks.EarlyStopping(monitor='val_loss', patience=10)\n",
    "\n",
    "model_checkpoint_callback = tf.keras.callbacks.ModelCheckpoint(\n",
    "    filepath='densenet_weights_7.h5',\n",
    "    monitor='val_acc',\n",
    "    mode='max',\n",
    "    verbose=1,\n",
    "    save_best_only=True)\n",
    "\n",
    "datagen=ImageDataGenerator(\n",
    "    rotation_range=20,\n",
    "    width_shift_range=0.20,\n",
    "    height_shift_range=0.20,\n",
    "    horizontal_flip=True,\n",
    "    zoom_range=0.15,\n",
    "    vertical_flip=True,\n",
    "    fill_mode='nearest')\n"
   ]
  },
  {
   "cell_type": "code",
   "execution_count": 18,
   "metadata": {},
   "outputs": [],
   "source": [
    "image_height=224\n",
    "image_width=224"
   ]
  },
  {
   "cell_type": "code",
   "execution_count": 19,
   "metadata": {},
   "outputs": [],
   "source": [
    "from tensorflow.keras import backend as K"
   ]
  },
  {
   "cell_type": "code",
   "execution_count": 20,
   "metadata": {},
   "outputs": [
    {
     "name": "stdout",
     "output_type": "stream",
     "text": [
      "WARNING:tensorflow:From C:\\Users\\sayus\\miniconda3\\envs\\te\\lib\\site-packages\\tensorflow\\python\\ops\\init_ops.py:1251: calling VarianceScaling.__init__ (from tensorflow.python.ops.init_ops) with dtype is deprecated and will be removed in a future version.\n",
      "Instructions for updating:\n",
      "Call initializer instance with the dtype argument instead of passing it to the constructor\n",
      "Model: \"model\"\n",
      "_________________________________________________________________\n",
      "Layer (type)                 Output Shape              Param #   \n",
      "=================================================================\n",
      "input_1 (InputLayer)         [(None, 224, 224, 3)]     0         \n",
      "_________________________________________________________________\n",
      "block1_conv1 (Conv2D)        (None, 224, 224, 64)      1792      \n",
      "_________________________________________________________________\n",
      "block1_conv2 (Conv2D)        (None, 224, 224, 64)      36928     \n",
      "_________________________________________________________________\n",
      "block1_pool (MaxPooling2D)   (None, 112, 112, 64)      0         \n",
      "_________________________________________________________________\n",
      "block2_conv1 (Conv2D)        (None, 112, 112, 128)     73856     \n",
      "_________________________________________________________________\n",
      "block2_conv2 (Conv2D)        (None, 112, 112, 128)     147584    \n",
      "_________________________________________________________________\n",
      "block2_pool (MaxPooling2D)   (None, 56, 56, 128)       0         \n",
      "_________________________________________________________________\n",
      "block3_conv1 (Conv2D)        (None, 56, 56, 256)       295168    \n",
      "_________________________________________________________________\n",
      "block3_conv2 (Conv2D)        (None, 56, 56, 256)       590080    \n",
      "_________________________________________________________________\n",
      "block3_conv3 (Conv2D)        (None, 56, 56, 256)       590080    \n",
      "_________________________________________________________________\n",
      "block3_pool (MaxPooling2D)   (None, 28, 28, 256)       0         \n",
      "_________________________________________________________________\n",
      "block4_conv1 (Conv2D)        (None, 28, 28, 512)       1180160   \n",
      "_________________________________________________________________\n",
      "block4_conv2 (Conv2D)        (None, 28, 28, 512)       2359808   \n",
      "_________________________________________________________________\n",
      "block4_conv3 (Conv2D)        (None, 28, 28, 512)       2359808   \n",
      "_________________________________________________________________\n",
      "block4_pool (MaxPooling2D)   (None, 14, 14, 512)       0         \n",
      "_________________________________________________________________\n",
      "block5_conv1 (Conv2D)        (None, 14, 14, 512)       2359808   \n",
      "_________________________________________________________________\n",
      "block5_conv2 (Conv2D)        (None, 14, 14, 512)       2359808   \n",
      "_________________________________________________________________\n",
      "block5_conv3 (Conv2D)        (None, 14, 14, 512)       2359808   \n",
      "_________________________________________________________________\n",
      "block5_pool (MaxPooling2D)   (None, 7, 7, 512)         0         \n",
      "_________________________________________________________________\n",
      "flatten (Flatten)            (None, 25088)             0         \n",
      "_________________________________________________________________\n",
      "dense (Dense)                (None, 512)               12845568  \n",
      "_________________________________________________________________\n",
      "dropout (Dropout)            (None, 512)               0         \n",
      "_________________________________________________________________\n",
      "batch_normalization (BatchNo (None, 512)               2048      \n",
      "_________________________________________________________________\n",
      "dense_1 (Dense)              (None, 256)               131328    \n",
      "_________________________________________________________________\n",
      "dense_2 (Dense)              (None, 4)                 1028      \n",
      "=================================================================\n",
      "Total params: 27,694,660\n",
      "Trainable params: 12,978,948\n",
      "Non-trainable params: 14,715,712\n",
      "_________________________________________________________________\n",
      "None\n"
     ]
    }
   ],
   "source": [
    "drop=0.3\n",
    "#K.set_learning_phase(0)\n",
    "densenet=tf.keras.applications.vgg16.VGG16(\n",
    "    include_top=False,\n",
    "    weights=\"imagenet\",\n",
    "    input_tensor=None,\n",
    "    input_shape=(224,224,3),\n",
    "    pooling=None)\n",
    "    #classes=4,\n",
    "#densenet.trainable=False\n",
    "# i=0\n",
    "for layer in densenet.layers:\n",
    "#     if i > 80:\n",
    "#         break\n",
    "    layer.trainable=False\n",
    "#     i=i+1\n",
    "    \n",
    "# for layer in densenet.layers:\n",
    "#     if \"BatchNormalization\" in layer.__class__.__name__:\n",
    "#         layer.trainable = True\n",
    "\n",
    "#K.set_learning_phase(1)\n",
    "x=densenet.output\n",
    "x=tf.keras.layers.Flatten()(x)\n",
    "x=tf.keras.layers.Dense(512,activation='relu')(x)\n",
    "x=tf.keras.layers.Dropout(drop)(x)\n",
    "x=tf.keras.layers.BatchNormalization()(x)\n",
    "x=tf.keras.layers.Dense(256,activation='relu')(x)\n",
    "p=tf.keras.layers.Dense(4,activation='softmax')(x)\n",
    "model=tf.keras.Model(inputs=densenet.input, outputs=p)\n",
    "\n",
    "\n",
    "\n",
    "\n",
    "print(model.summary())"
   ]
  },
  {
   "cell_type": "code",
   "execution_count": 21,
   "metadata": {},
   "outputs": [],
   "source": [
    "#opt=tf.keras.optimizers.Adam(lr=0.000055)\n",
    "initial_learning_rate = 0.0001\n",
    "def scheduler(epoch, lr):\n",
    "    if epoch == 0:\n",
    "        return lr\n",
    "    if epoch % 10 == 0:\n",
    "        return lr * 0.1\n",
    "    else:\n",
    "        return lr\n",
    "lr_callback = tf.keras.callbacks.LearningRateScheduler(scheduler, verbose=1)\n",
    "opt=tf.keras.optimizers.Adam(lr=initial_learning_rate)\n",
    "model.compile(loss='categorical_crossentropy', optimizer=opt, metrics=['accuracy'])\n"
   ]
  },
  {
   "cell_type": "code",
   "execution_count": 22,
   "metadata": {},
   "outputs": [
    {
     "name": "stdout",
     "output_type": "stream",
     "text": [
      "Train on 2107 samples, validate on 261 samples\n",
      "\n",
      "Epoch 00001: LearningRateScheduler reducing learning rate to 9.999999747378752e-05.\n",
      "Epoch 1/30\n",
      "2104/2107 [============================>.] - ETA: 0s - loss: 1.2215 - acc: 0.5214\n",
      "Epoch 00001: val_acc improved from -inf to 0.62835, saving model to densenet_weights_7.h5\n",
      "2107/2107 [==============================] - 44s 21ms/sample - loss: 1.2210 - acc: 0.5216 - val_loss: 1.0854 - val_acc: 0.6284\n",
      "\n",
      "Epoch 00002: LearningRateScheduler reducing learning rate to 9.999999747378752e-05.\n",
      "Epoch 2/30\n",
      "2104/2107 [============================>.] - ETA: 0s - loss: 0.6012 - acc: 0.7856\n",
      "Epoch 00002: val_acc did not improve from 0.62835\n",
      "2107/2107 [==============================] - 36s 17ms/sample - loss: 0.6015 - acc: 0.7855 - val_loss: 1.0528 - val_acc: 0.6207\n",
      "\n",
      "Epoch 00003: LearningRateScheduler reducing learning rate to 9.999999747378752e-05.\n",
      "Epoch 3/30\n",
      "2104/2107 [============================>.] - ETA: 0s - loss: 0.3772 - acc: 0.8869\n",
      "Epoch 00003: val_acc improved from 0.62835 to 0.64368, saving model to densenet_weights_7.h5\n",
      "2107/2107 [==============================] - 38s 18ms/sample - loss: 0.3778 - acc: 0.8866 - val_loss: 1.0703 - val_acc: 0.6437\n",
      "\n",
      "Epoch 00004: LearningRateScheduler reducing learning rate to 9.999999747378752e-05.\n",
      "Epoch 4/30\n",
      "2104/2107 [============================>.] - ETA: 0s - loss: 0.2489 - acc: 0.9396\n",
      "Epoch 00004: val_acc did not improve from 0.64368\n",
      "2107/2107 [==============================] - 36s 17ms/sample - loss: 0.2488 - acc: 0.9397 - val_loss: 1.0938 - val_acc: 0.6207\n",
      "\n",
      "Epoch 00005: LearningRateScheduler reducing learning rate to 9.999999747378752e-05.\n",
      "Epoch 5/30\n",
      "2104/2107 [============================>.] - ETA: 0s - loss: 0.1807 - acc: 0.9610\n",
      "Epoch 00005: val_acc did not improve from 0.64368\n",
      "2107/2107 [==============================] - 40s 19ms/sample - loss: 0.1813 - acc: 0.9606 - val_loss: 1.1489 - val_acc: 0.6245\n",
      "\n",
      "Epoch 00006: LearningRateScheduler reducing learning rate to 9.999999747378752e-05.\n",
      "Epoch 6/30\n",
      "2104/2107 [============================>.] - ETA: 0s - loss: 0.1495 - acc: 0.9691\n",
      "Epoch 00006: val_acc did not improve from 0.64368\n",
      "2107/2107 [==============================] - 36s 17ms/sample - loss: 0.1494 - acc: 0.9692 - val_loss: 1.2043 - val_acc: 0.6169\n",
      "\n",
      "Epoch 00007: LearningRateScheduler reducing learning rate to 9.999999747378752e-05.\n",
      "Epoch 7/30\n",
      "2104/2107 [============================>.] - ETA: 0s - loss: 0.1257 - acc: 0.9682\n",
      "Epoch 00007: val_acc did not improve from 0.64368\n",
      "2107/2107 [==============================] - 44s 21ms/sample - loss: 0.1266 - acc: 0.9677 - val_loss: 1.1738 - val_acc: 0.6360\n",
      "\n",
      "Epoch 00008: LearningRateScheduler reducing learning rate to 9.999999747378752e-05.\n",
      "Epoch 8/30\n",
      "2104/2107 [============================>.] - ETA: 0s - loss: 0.1257 - acc: 0.9686\n",
      "Epoch 00008: val_acc did not improve from 0.64368\n",
      "2107/2107 [==============================] - 49s 23ms/sample - loss: 0.1260 - acc: 0.9687 - val_loss: 1.2989 - val_acc: 0.5977\n",
      "\n",
      "Epoch 00009: LearningRateScheduler reducing learning rate to 9.999999747378752e-05.\n",
      "Epoch 9/30\n",
      "2104/2107 [============================>.] - ETA: 0s - loss: 0.1082 - acc: 0.9734\n",
      "Epoch 00009: val_acc did not improve from 0.64368\n",
      "2107/2107 [==============================] - 45s 21ms/sample - loss: 0.1080 - acc: 0.9734 - val_loss: 1.3320 - val_acc: 0.6130\n",
      "\n",
      "Epoch 00010: LearningRateScheduler reducing learning rate to 9.999999747378752e-05.\n",
      "Epoch 10/30\n",
      "2104/2107 [============================>.] - ETA: 0s - loss: 0.0998 - acc: 0.9729\n",
      "Epoch 00010: val_acc did not improve from 0.64368\n",
      "2107/2107 [==============================] - 49s 23ms/sample - loss: 0.0998 - acc: 0.9729 - val_loss: 1.3836 - val_acc: 0.6360\n",
      "\n",
      "Epoch 00011: LearningRateScheduler reducing learning rate to 9.999999747378752e-06.\n",
      "Epoch 11/30\n",
      "2104/2107 [============================>.] - ETA: 0s - loss: 0.0861 - acc: 0.9753\n",
      "Epoch 00011: val_acc did not improve from 0.64368\n",
      "2107/2107 [==============================] - 49s 23ms/sample - loss: 0.0886 - acc: 0.9748 - val_loss: 1.2912 - val_acc: 0.6360\n",
      "\n",
      "Epoch 00012: LearningRateScheduler reducing learning rate to 9.999999747378752e-06.\n",
      "Epoch 12/30\n",
      "2104/2107 [============================>.] - ETA: 0s - loss: 0.0765 - acc: 0.9786\n",
      "Epoch 00012: val_acc did not improve from 0.64368\n",
      "2107/2107 [==============================] - 49s 23ms/sample - loss: 0.0765 - acc: 0.9786 - val_loss: 1.2824 - val_acc: 0.6322\n",
      "\n",
      "Epoch 00013: LearningRateScheduler reducing learning rate to 9.999999747378752e-06.\n",
      "Epoch 13/30\n",
      "2104/2107 [============================>.] - ETA: 0s - loss: 0.0754 - acc: 0.9800\n",
      "Epoch 00013: val_acc did not improve from 0.64368\n",
      "2107/2107 [==============================] - 54s 25ms/sample - loss: 0.0757 - acc: 0.9801 - val_loss: 1.2874 - val_acc: 0.6245\n",
      "\n",
      "Epoch 00014: LearningRateScheduler reducing learning rate to 9.999999747378752e-06.\n",
      "Epoch 14/30\n",
      "2104/2107 [============================>.] - ETA: 0s - loss: 0.0638 - acc: 0.9843\n",
      "Epoch 00014: val_acc did not improve from 0.64368\n",
      "2107/2107 [==============================] - 50s 24ms/sample - loss: 0.0641 - acc: 0.9843 - val_loss: 1.2876 - val_acc: 0.6207\n",
      "\n",
      "Epoch 00015: LearningRateScheduler reducing learning rate to 9.999999747378752e-06.\n",
      "Epoch 15/30\n",
      "2104/2107 [============================>.] - ETA: 0s - loss: 0.0598 - acc: 0.9843\n",
      "Epoch 00015: val_acc did not improve from 0.64368\n",
      "2107/2107 [==============================] - 49s 23ms/sample - loss: 0.0604 - acc: 0.9839 - val_loss: 1.3100 - val_acc: 0.6360\n",
      "\n",
      "Epoch 00016: LearningRateScheduler reducing learning rate to 9.999999747378752e-06.\n",
      "Epoch 16/30\n",
      "2104/2107 [============================>.] - ETA: 0s - loss: 0.0586 - acc: 0.9853\n",
      "Epoch 00016: val_acc did not improve from 0.64368\n",
      "2107/2107 [==============================] - 48s 23ms/sample - loss: 0.0592 - acc: 0.9848 - val_loss: 1.2836 - val_acc: 0.6360\n",
      "\n",
      "Epoch 00017: LearningRateScheduler reducing learning rate to 9.999999747378752e-06.\n",
      "Epoch 17/30\n",
      "2104/2107 [============================>.] - ETA: 0s - loss: 0.0569 - acc: 0.9857\n",
      "Epoch 00017: val_acc did not improve from 0.64368\n",
      "2107/2107 [==============================] - 53s 25ms/sample - loss: 0.0569 - acc: 0.9858 - val_loss: 1.3253 - val_acc: 0.6360\n",
      "\n",
      "Epoch 00018: LearningRateScheduler reducing learning rate to 9.999999747378752e-06.\n",
      "Epoch 18/30\n",
      "2104/2107 [============================>.] - ETA: 0s - loss: 0.0561 - acc: 0.9848\n",
      "Epoch 00018: val_acc did not improve from 0.64368\n",
      "2107/2107 [==============================] - 49s 23ms/sample - loss: 0.0560 - acc: 0.9848 - val_loss: 1.3143 - val_acc: 0.6360\n",
      "\n",
      "Epoch 00019: LearningRateScheduler reducing learning rate to 9.999999747378752e-06.\n",
      "Epoch 19/30\n",
      "2104/2107 [============================>.] - ETA: 0s - loss: 0.0480 - acc: 0.9895\n",
      "Epoch 00019: val_acc did not improve from 0.64368\n",
      "2107/2107 [==============================] - 53s 25ms/sample - loss: 0.0480 - acc: 0.9896 - val_loss: 1.3422 - val_acc: 0.6245\n",
      "\n",
      "Epoch 00020: LearningRateScheduler reducing learning rate to 9.999999747378752e-06.\n",
      "Epoch 20/30\n",
      "2104/2107 [============================>.] - ETA: 0s - loss: 0.0507 - acc: 0.9867\n",
      "Epoch 00020: val_acc did not improve from 0.64368\n",
      "2107/2107 [==============================] - 49s 23ms/sample - loss: 0.0512 - acc: 0.9867 - val_loss: 1.3240 - val_acc: 0.6322\n",
      "\n",
      "Epoch 00021: LearningRateScheduler reducing learning rate to 9.999999747378752e-07.\n",
      "Epoch 21/30\n",
      "2104/2107 [============================>.] - ETA: 0s - loss: 0.0529 - acc: 0.9848\n",
      "Epoch 00021: val_acc did not improve from 0.64368\n",
      "2107/2107 [==============================] - 53s 25ms/sample - loss: 0.0528 - acc: 0.9848 - val_loss: 1.3393 - val_acc: 0.6284\n",
      "\n",
      "Epoch 00022: LearningRateScheduler reducing learning rate to 9.999999974752427e-07.\n",
      "Epoch 22/30\n",
      "2104/2107 [============================>.] - ETA: 0s - loss: 0.0459 - acc: 0.9910\n",
      "Epoch 00022: val_acc did not improve from 0.64368\n",
      "2107/2107 [==============================] - 54s 25ms/sample - loss: 0.0459 - acc: 0.9910 - val_loss: 1.3406 - val_acc: 0.6360\n",
      "\n",
      "Epoch 00023: LearningRateScheduler reducing learning rate to 9.999999974752427e-07.\n",
      "Epoch 23/30\n",
      "2104/2107 [============================>.] - ETA: 0s - loss: 0.0438 - acc: 0.9886\n",
      "Epoch 00023: val_acc did not improve from 0.64368\n",
      "2107/2107 [==============================] - 49s 23ms/sample - loss: 0.0438 - acc: 0.9886 - val_loss: 1.3466 - val_acc: 0.6245\n"
     ]
    },
    {
     "name": "stdout",
     "output_type": "stream",
     "text": [
      "\n",
      "Epoch 00024: LearningRateScheduler reducing learning rate to 9.999999974752427e-07.\n",
      "Epoch 24/30\n",
      "2104/2107 [============================>.] - ETA: 0s - loss: 0.0549 - acc: 0.9824\n",
      "Epoch 00024: val_acc did not improve from 0.64368\n",
      "2107/2107 [==============================] - 53s 25ms/sample - loss: 0.0551 - acc: 0.9824 - val_loss: 1.3446 - val_acc: 0.6322\n",
      "\n",
      "Epoch 00025: LearningRateScheduler reducing learning rate to 9.999999974752427e-07.\n",
      "Epoch 25/30\n",
      "2104/2107 [============================>.] - ETA: 0s - loss: 0.0420 - acc: 0.9895\n",
      "Epoch 00025: val_acc did not improve from 0.64368\n",
      "2107/2107 [==============================] - 49s 23ms/sample - loss: 0.0420 - acc: 0.9896 - val_loss: 1.3306 - val_acc: 0.6360\n",
      "\n",
      "Epoch 00026: LearningRateScheduler reducing learning rate to 9.999999974752427e-07.\n",
      "Epoch 26/30\n",
      "2104/2107 [============================>.] - ETA: 0s - loss: 0.0475 - acc: 0.9891\n",
      "Epoch 00026: val_acc did not improve from 0.64368\n",
      "2107/2107 [==============================] - 53s 25ms/sample - loss: 0.0474 - acc: 0.9891 - val_loss: 1.3394 - val_acc: 0.6322\n",
      "\n",
      "Epoch 00027: LearningRateScheduler reducing learning rate to 9.999999974752427e-07.\n",
      "Epoch 27/30\n",
      "2104/2107 [============================>.] - ETA: 0s - loss: 0.0365 - acc: 0.9929\n",
      "Epoch 00027: val_acc did not improve from 0.64368\n",
      "2107/2107 [==============================] - 49s 23ms/sample - loss: 0.0366 - acc: 0.9929 - val_loss: 1.3318 - val_acc: 0.6322\n",
      "\n",
      "Epoch 00028: LearningRateScheduler reducing learning rate to 9.999999974752427e-07.\n",
      "Epoch 28/30\n",
      "2104/2107 [============================>.] - ETA: 0s - loss: 0.0434 - acc: 0.9886\n",
      "Epoch 00028: val_acc did not improve from 0.64368\n",
      "2107/2107 [==============================] - 53s 25ms/sample - loss: 0.0435 - acc: 0.9886 - val_loss: 1.3399 - val_acc: 0.6322\n",
      "\n",
      "Epoch 00029: LearningRateScheduler reducing learning rate to 9.999999974752427e-07.\n",
      "Epoch 29/30\n",
      "2104/2107 [============================>.] - ETA: 0s - loss: 0.0464 - acc: 0.9876\n",
      "Epoch 00029: val_acc did not improve from 0.64368\n",
      "2107/2107 [==============================] - 49s 23ms/sample - loss: 0.0468 - acc: 0.9877 - val_loss: 1.3537 - val_acc: 0.6322\n",
      "\n",
      "Epoch 00030: LearningRateScheduler reducing learning rate to 9.999999974752427e-07.\n",
      "Epoch 30/30\n",
      "2104/2107 [============================>.] - ETA: 0s - loss: 0.0436 - acc: 0.9891\n",
      "Epoch 00030: val_acc did not improve from 0.64368\n",
      "2107/2107 [==============================] - 53s 25ms/sample - loss: 0.0435 - acc: 0.9891 - val_loss: 1.3603 - val_acc: 0.6360\n"
     ]
    }
   ],
   "source": [
    "history=model.fit(x_train, y_train, validation_data=(x_val, y_val), epochs=30, batch_size=8, callbacks=[ lr_callback,model_checkpoint_callback], shuffle=True)\n",
    "\n",
    "#history=model.fit_generator(datagen.flow(x_train, y_train, batch_size=8), steps_per_epoch=len(x_train)/8, epochs=50, validation_data=(x_val,y_val), callbacks=[ model_checkpoint_callback], shuffle=True)#, class_weight=class_weights)"
   ]
  },
  {
   "cell_type": "code",
   "execution_count": 23,
   "metadata": {},
   "outputs": [
    {
     "data": {
      "image/png": "[encoded data removed]",
      "text/plain": [
       "<Figure size 432x288 with 1 Axes>"
      ]
     },
     "metadata": {
      "needs_background": "light"
     },
     "output_type": "display_data"
    }
   ],
   "source": [
    "plt.plot(history.history['acc'])\n",
    "plt.plot(history.history['val_acc'])\n",
    "plt.plot(history.history['loss'])\n",
    "plt.plot(history.history['val_loss'])\n",
    "plt.title('Model Accuracy/Model Loss')\n",
    "plt.ylabel('acc/loss')\n",
    "plt.xlabel('epochs')\n",
    "plt.legend(('acc','val_acc', 'loss', 'val_loss'), loc='upper right')\n",
    "plt.savefig('test.jpg')\n",
    "plt.show()"
   ]
  },
  {
   "cell_type": "code",
   "execution_count": 24,
   "metadata": {},
   "outputs": [],
   "source": [
    "from tensorflow.keras.models import load_model"
   ]
  },
  {
   "cell_type": "code",
   "execution_count": 25,
   "metadata": {},
   "outputs": [
    {
     "name": "stdout",
     "output_type": "stream",
     "text": [
      "WARNING:tensorflow:From C:\\Users\\sayus\\miniconda3\\envs\\te\\lib\\site-packages\\tensorflow\\python\\ops\\init_ops.py:97: calling GlorotUniform.__init__ (from tensorflow.python.ops.init_ops) with dtype is deprecated and will be removed in a future version.\n",
      "Instructions for updating:\n",
      "Call initializer instance with the dtype argument instead of passing it to the constructor\n",
      "WARNING:tensorflow:From C:\\Users\\sayus\\miniconda3\\envs\\te\\lib\\site-packages\\tensorflow\\python\\ops\\init_ops.py:97: calling Zeros.__init__ (from tensorflow.python.ops.init_ops) with dtype is deprecated and will be removed in a future version.\n",
      "Instructions for updating:\n",
      "Call initializer instance with the dtype argument instead of passing it to the constructor\n",
      "WARNING:tensorflow:From C:\\Users\\sayus\\miniconda3\\envs\\te\\lib\\site-packages\\tensorflow\\python\\ops\\init_ops.py:97: calling Ones.__init__ (from tensorflow.python.ops.init_ops) with dtype is deprecated and will be removed in a future version.\n",
      "Instructions for updating:\n",
      "Call initializer instance with the dtype argument instead of passing it to the constructor\n"
     ]
    }
   ],
   "source": [
    "model=load_model('densenet_weights_7.h5')"
   ]
  },
  {
   "cell_type": "code",
   "execution_count": 26,
   "metadata": {},
   "outputs": [
    {
     "name": "stdout",
     "output_type": "stream",
     "text": [
      "264/264 [==============================] - 7s 25ms/sample - loss: 0.9791 - acc: 0.7083\n"
     ]
    }
   ],
   "source": [
    "prediction=model.predict(x_test)\n",
    "evalution=model.evaluate(x_test, y_test)"
   ]
  },
  {
   "cell_type": "code",
   "execution_count": 27,
   "metadata": {},
   "outputs": [
    {
     "data": {
      "text/plain": [
       "(array([0, 0, 0, 3, 0, 2, 0, 3, 2, 0], dtype=int64),\n",
       " array([0, 0, 0, 3, 2, 2, 0, 3, 2, 0], dtype=int64))"
      ]
     },
     "execution_count": 27,
     "metadata": {},
     "output_type": "execute_result"
    }
   ],
   "source": [
    "np.argmax(prediction, axis=1)[10:20],np.argmax(y_test, axis=1)[10:20]"
   ]
  },
  {
   "cell_type": "code",
   "execution_count": 28,
   "metadata": {},
   "outputs": [
    {
     "data": {
      "text/plain": [
       "array([[153,   0,   2,   5],\n",
       "       [ 13,   2,   0,   3],\n",
       "       [ 24,   1,   8,   6],\n",
       "       [ 14,   2,   7,  24]], dtype=int64)"
      ]
     },
     "execution_count": 28,
     "metadata": {},
     "output_type": "execute_result"
    }
   ],
   "source": [
    "cf=confusion_matrix(np.argmax(y_test, axis=1),np.argmax(prediction,axis=1))\n",
    "cf"
   ]
  },
  {
   "cell_type": "code",
   "execution_count": 29,
   "metadata": {},
   "outputs": [],
   "source": [
    "normalized_cf=[]\n",
    "for x in cf:\n",
    "    normalized_cf.append(x/sum(x))"
   ]
  },
  {
   "cell_type": "code",
   "execution_count": 30,
   "metadata": {},
   "outputs": [
    {
     "data": {
      "text/plain": [
       "array([[0.95625   , 0.        , 0.0125    , 0.03125   ],\n",
       "       [0.72222222, 0.11111111, 0.        , 0.16666667],\n",
       "       [0.61538462, 0.02564103, 0.20512821, 0.15384615],\n",
       "       [0.29787234, 0.04255319, 0.14893617, 0.5106383 ]])"
      ]
     },
     "execution_count": 30,
     "metadata": {},
     "output_type": "execute_result"
    }
   ],
   "source": [
    "normalized_cf=np.array(normalized_cf)\n",
    "normalized_cf"
   ]
  },
  {
   "cell_type": "code",
   "execution_count": 31,
   "metadata": {},
   "outputs": [
    {
     "data": {
      "image/png": "[encoded data removed]",
      "text/plain": [
       "<Figure size 432x288 with 2 Axes>"
      ]
     },
     "metadata": {
      "needs_background": "light"
     },
     "output_type": "display_data"
    }
   ],
   "source": [
    "labels=['No Damage','Flexural','Shear','Combined']\n",
    "fig = plt.figure()\n",
    "ax = fig.add_subplot(111)\n",
    "cax = ax.matshow(normalized_cf)\n",
    "fig.colorbar(cax)\n",
    "ax.set_xticklabels([''] + labels)\n",
    "ax.set_yticklabels([''] + labels)\n",
    "plt.xlabel('Predicted')\n",
    "plt.ylabel('True')\n",
    "plt.show()"
   ]
  },
  {
   "cell_type": "code",
   "execution_count": null,
   "metadata": {},
   "outputs": [],
   "source": []
  }
 ],
 "metadata": {
  "kernelspec": {
   "display_name": "Python 3",
   "language": "python",
   "name": "python3"
  },
  "language_info": {
   "codemirror_mode": {
    "name": "ipython",
    "version": 3
   },
   "file_extension": ".py",
   "mimetype": "text/x-python",
   "name": "python",
   "nbconvert_exporter": "python",
   "pygments_lexer": "ipython3",
   "version": "3.6.10"
  }
 },
 "nbformat": 4,
 "nbformat_minor": 4
}
