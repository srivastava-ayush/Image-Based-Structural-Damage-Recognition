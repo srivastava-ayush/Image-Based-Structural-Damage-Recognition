{
 "cells": [
  {
   "cell_type": "code",
   "execution_count": 1,
   "metadata": {},
   "outputs": [
    {
     "name": "stderr",
     "output_type": "stream",
     "text": [
      "C:\\Users\\sayus\\miniconda3\\envs\\te\\lib\\site-packages\\tensorflow\\python\\framework\\dtypes.py:516: FutureWarning: Passing (type, 1) or '1type' as a synonym of type is deprecated; in a future version of numpy, it will be understood as (type, (1,)) / '(1,)type'.\n",
      "  _np_qint8 = np.dtype([(\"qint8\", np.int8, 1)])\n",
      "C:\\Users\\sayus\\miniconda3\\envs\\te\\lib\\site-packages\\tensorflow\\python\\framework\\dtypes.py:517: FutureWarning: Passing (type, 1) or '1type' as a synonym of type is deprecated; in a future version of numpy, it will be understood as (type, (1,)) / '(1,)type'.\n",
      "  _np_quint8 = np.dtype([(\"quint8\", np.uint8, 1)])\n",
      "C:\\Users\\sayus\\miniconda3\\envs\\te\\lib\\site-packages\\tensorflow\\python\\framework\\dtypes.py:518: FutureWarning: Passing (type, 1) or '1type' as a synonym of type is deprecated; in a future version of numpy, it will be understood as (type, (1,)) / '(1,)type'.\n",
      "  _np_qint16 = np.dtype([(\"qint16\", np.int16, 1)])\n",
      "C:\\Users\\sayus\\miniconda3\\envs\\te\\lib\\site-packages\\tensorflow\\python\\framework\\dtypes.py:519: FutureWarning: Passing (type, 1) or '1type' as a synonym of type is deprecated; in a future version of numpy, it will be understood as (type, (1,)) / '(1,)type'.\n",
      "  _np_quint16 = np.dtype([(\"quint16\", np.uint16, 1)])\n",
      "C:\\Users\\sayus\\miniconda3\\envs\\te\\lib\\site-packages\\tensorflow\\python\\framework\\dtypes.py:520: FutureWarning: Passing (type, 1) or '1type' as a synonym of type is deprecated; in a future version of numpy, it will be understood as (type, (1,)) / '(1,)type'.\n",
      "  _np_qint32 = np.dtype([(\"qint32\", np.int32, 1)])\n",
      "C:\\Users\\sayus\\miniconda3\\envs\\te\\lib\\site-packages\\tensorflow\\python\\framework\\dtypes.py:525: FutureWarning: Passing (type, 1) or '1type' as a synonym of type is deprecated; in a future version of numpy, it will be understood as (type, (1,)) / '(1,)type'.\n",
      "  np_resource = np.dtype([(\"resource\", np.ubyte, 1)])\n",
      "C:\\Users\\sayus\\miniconda3\\envs\\te\\lib\\site-packages\\tensorboard\\compat\\tensorflow_stub\\dtypes.py:541: FutureWarning: Passing (type, 1) or '1type' as a synonym of type is deprecated; in a future version of numpy, it will be understood as (type, (1,)) / '(1,)type'.\n",
      "  _np_qint8 = np.dtype([(\"qint8\", np.int8, 1)])\n",
      "C:\\Users\\sayus\\miniconda3\\envs\\te\\lib\\site-packages\\tensorboard\\compat\\tensorflow_stub\\dtypes.py:542: FutureWarning: Passing (type, 1) or '1type' as a synonym of type is deprecated; in a future version of numpy, it will be understood as (type, (1,)) / '(1,)type'.\n",
      "  _np_quint8 = np.dtype([(\"quint8\", np.uint8, 1)])\n",
      "C:\\Users\\sayus\\miniconda3\\envs\\te\\lib\\site-packages\\tensorboard\\compat\\tensorflow_stub\\dtypes.py:543: FutureWarning: Passing (type, 1) or '1type' as a synonym of type is deprecated; in a future version of numpy, it will be understood as (type, (1,)) / '(1,)type'.\n",
      "  _np_qint16 = np.dtype([(\"qint16\", np.int16, 1)])\n",
      "C:\\Users\\sayus\\miniconda3\\envs\\te\\lib\\site-packages\\tensorboard\\compat\\tensorflow_stub\\dtypes.py:544: FutureWarning: Passing (type, 1) or '1type' as a synonym of type is deprecated; in a future version of numpy, it will be understood as (type, (1,)) / '(1,)type'.\n",
      "  _np_quint16 = np.dtype([(\"quint16\", np.uint16, 1)])\n",
      "C:\\Users\\sayus\\miniconda3\\envs\\te\\lib\\site-packages\\tensorboard\\compat\\tensorflow_stub\\dtypes.py:545: FutureWarning: Passing (type, 1) or '1type' as a synonym of type is deprecated; in a future version of numpy, it will be understood as (type, (1,)) / '(1,)type'.\n",
      "  _np_qint32 = np.dtype([(\"qint32\", np.int32, 1)])\n",
      "C:\\Users\\sayus\\miniconda3\\envs\\te\\lib\\site-packages\\tensorboard\\compat\\tensorflow_stub\\dtypes.py:550: FutureWarning: Passing (type, 1) or '1type' as a synonym of type is deprecated; in a future version of numpy, it will be understood as (type, (1,)) / '(1,)type'.\n",
      "  np_resource = np.dtype([(\"resource\", np.ubyte, 1)])\n"
     ]
    }
   ],
   "source": [
    "import  tensorflow as tf\n",
    "import numpy as np\n",
    "from sklearn.model_selection import train_test_split\n",
    "from tensorflow.keras.utils import to_categorical\n",
    "from tensorflow.keras.preprocessing.image import ImageDataGenerator\n",
    "from matplotlib import pyplot as plt\n",
    "import cv2 as cv\n",
    "from collections import Counter\n",
    "from sklearn.utils import class_weight\n",
    "from sklearn.metrics import confusion_matrix"
   ]
  },
  {
   "cell_type": "code",
   "execution_count": 2,
   "metadata": {},
   "outputs": [],
   "source": [
    "import os"
   ]
  },
  {
   "cell_type": "code",
   "execution_count": 4,
   "metadata": {},
   "outputs": [
    {
     "name": "stdout",
     "output_type": "stream",
     "text": [
      "complete : 1502\n",
      "complete : 1648\n",
      "complete : 1600\n",
      "complete : 1572\n"
     ]
    }
   ],
   "source": [
    "# x=np.load('Dataset/all_7/x_train.npy')\n",
    "# y=np.load('Dataset/all_7/y_train.npy')\n",
    "x=[]\n",
    "y=[]\n",
    "c=0\n",
    "path='image_data/task7/after_augmentation'\n",
    "for image in os.listdir(os.path.join(path, 'no_damage')):\n",
    "    img=cv.imread(os.path.join(path,'no_damage', image),1)\n",
    "    x.append(img)\n",
    "    y.append(0)\n",
    "    c=c+1\n",
    "print(\"complete :\", c)\n",
    "c=0\n",
    "for image in os.listdir(os.path.join(path, 'flexural')):\n",
    "    img=cv.imread(os.path.join(path,'flexural', image),1)\n",
    "    x.append(img)\n",
    "    y.append(1)\n",
    "    c=c+1\n",
    "print(\"complete :\", c)\n",
    "c=0\n",
    "for image in os.listdir(os.path.join(path, 'shear')):\n",
    "    img=cv.imread(os.path.join(path,'shear', image),1)\n",
    "    x.append(img)\n",
    "    y.append(2)\n",
    "    c=c+1\n",
    "print(\"complete :\", c)\n",
    "c=0\n",
    "for image in os.listdir(os.path.join(path, 'combined')):\n",
    "    img=cv.imread(os.path.join(path,'combined', image),1)\n",
    "    x.append(img)\n",
    "    y.append(3)\n",
    "    c=c+1\n",
    "print(\"complete :\", c)\n",
    "x=np.array(x)\n",
    "y=np.array(y)"
   ]
  },
  {
   "cell_type": "code",
   "execution_count": 5,
   "metadata": {},
   "outputs": [
    {
     "data": {
      "text/plain": [
       "((6322, 224, 224, 3), (6322,))"
      ]
     },
     "execution_count": 5,
     "metadata": {},
     "output_type": "execute_result"
    }
   ],
   "source": [
    "x.shape, y.shape"
   ]
  },
  {
   "cell_type": "code",
   "execution_count": 6,
   "metadata": {},
   "outputs": [
    {
     "data": {
      "text/plain": [
       "array([[[[ 9.0609970e+00, -2.7789993e+00, -5.6800003e+00],\n",
       "         [ 1.5060997e+01,  3.2210007e+00,  3.1999969e-01],\n",
       "         [ 1.6060997e+01,  3.2210007e+00, -1.6800003e+00],\n",
       "         ...,\n",
       "         [-5.7939003e+01, -6.2778999e+01, -5.8680000e+01],\n",
       "         [-6.7939003e+01, -7.3778999e+01, -6.2680000e+01],\n",
       "         [-3.5939003e+01, -4.1778999e+01, -2.9680000e+01]],\n",
       "\n",
       "        [[ 7.0609970e+00, -4.7789993e+00, -7.6800003e+00],\n",
       "         [ 1.3060997e+01,  1.2210007e+00, -1.6800003e+00],\n",
       "         [ 1.3060997e+01,  2.2100067e-01, -4.6800003e+00],\n",
       "         ...,\n",
       "         [-5.5939003e+01, -6.0778999e+01, -5.6680000e+01],\n",
       "         [-6.4939003e+01, -7.0778999e+01, -5.9680000e+01],\n",
       "         [-3.6939003e+01, -4.2778999e+01, -3.0680000e+01]],\n",
       "\n",
       "        [[ 7.0609970e+00, -4.7789993e+00, -7.6800003e+00],\n",
       "         [ 1.0060997e+01, -1.7789993e+00, -4.6800003e+00],\n",
       "         [ 1.1060997e+01, -1.7789993e+00, -6.6800003e+00],\n",
       "         ...,\n",
       "         [-5.3939003e+01, -5.8778999e+01, -5.4680000e+01],\n",
       "         [-6.0939003e+01, -6.6778999e+01, -5.5680000e+01],\n",
       "         [-3.7939003e+01, -4.3778999e+01, -3.1680000e+01]],\n",
       "\n",
       "        ...,\n",
       "\n",
       "        [[-3.2939003e+01, -2.9778999e+01, -4.9680000e+01],\n",
       "         [-4.1939003e+01, -4.0778999e+01, -6.2680000e+01],\n",
       "         [-5.3939003e+01, -5.3778999e+01, -7.8680000e+01],\n",
       "         ...,\n",
       "         [-2.2939003e+01, -3.7778999e+01, -4.3680000e+01],\n",
       "         [-3.8939003e+01, -5.3778999e+01, -5.9680000e+01],\n",
       "         [-6.8939003e+01, -8.3778999e+01, -8.9680000e+01]],\n",
       "\n",
       "        [[-1.3939003e+01, -1.3778999e+01, -2.9680000e+01],\n",
       "         [-2.0939003e+01, -2.0778999e+01, -3.7680000e+01],\n",
       "         [-3.1939003e+01, -3.2778999e+01, -5.3680000e+01],\n",
       "         ...,\n",
       "         [-2.3939003e+01, -3.8778999e+01, -4.4680000e+01],\n",
       "         [-3.7939003e+01, -5.2778999e+01, -5.8680000e+01],\n",
       "         [-6.5939003e+01, -8.0778999e+01, -8.6680000e+01]],\n",
       "\n",
       "        [[-1.0939003e+01, -1.0778999e+01, -2.4680000e+01],\n",
       "         [-8.9390030e+00, -8.7789993e+00, -2.4680000e+01],\n",
       "         [-9.9390030e+00, -1.0778999e+01, -2.9680000e+01],\n",
       "         ...,\n",
       "         [-2.5939003e+01, -4.0778999e+01, -4.6680000e+01],\n",
       "         [-3.7939003e+01, -5.2778999e+01, -5.8680000e+01],\n",
       "         [-6.4939003e+01, -7.9778999e+01, -8.5680000e+01]]],\n",
       "\n",
       "\n",
       "       [[[-3.0939003e+01, -3.2778999e+01,  5.3199997e+00],\n",
       "         [-2.9939003e+01, -3.1778999e+01,  6.3199997e+00],\n",
       "         [-2.4939003e+01, -2.4778999e+01,  1.0320000e+01],\n",
       "         ...,\n",
       "         [-4.7939003e+01, -4.7778999e+01,  1.3320000e+01],\n",
       "         [-4.7939003e+01, -4.7778999e+01,  1.3320000e+01],\n",
       "         [-4.9939003e+01, -4.9778999e+01,  1.1320000e+01]],\n",
       "\n",
       "        [[-2.9939003e+01, -3.1778999e+01,  6.3199997e+00],\n",
       "         [-3.0939003e+01, -3.1778999e+01,  3.3199997e+00],\n",
       "         [-2.7939003e+01, -2.6778999e+01,  5.3199997e+00],\n",
       "         ...,\n",
       "         [-4.6939003e+01, -4.4778999e+01,  1.5320000e+01],\n",
       "         [-4.9939003e+01, -4.7778999e+01,  1.2320000e+01],\n",
       "         [-5.3939003e+01, -5.1778999e+01,  8.3199997e+00]],\n",
       "\n",
       "        [[-3.0939003e+01, -3.2778999e+01,  5.3199997e+00],\n",
       "         [-3.4939003e+01, -3.5778999e+01, -6.8000031e-01],\n",
       "         [-3.3939003e+01, -3.2778999e+01, -6.8000031e-01],\n",
       "         ...,\n",
       "         [-4.7939003e+01, -4.2778999e+01,  1.6320000e+01],\n",
       "         [-4.9939003e+01, -4.4778999e+01,  1.4320000e+01],\n",
       "         [-5.1939003e+01, -4.6778999e+01,  1.2320000e+01]],\n",
       "\n",
       "        ...,\n",
       "\n",
       "        [[-1.9939003e+01, -9.7789993e+00,  6.1320000e+01],\n",
       "         [-3.0939003e+01, -2.0778999e+01,  5.0320000e+01],\n",
       "         [-3.7939003e+01, -2.7778999e+01,  4.3320000e+01],\n",
       "         ...,\n",
       "         [-4.8939003e+01, -4.2778999e+01,  1.6320000e+01],\n",
       "         [-4.9939003e+01, -4.3778999e+01,  1.5320000e+01],\n",
       "         [-4.6939003e+01, -4.0778999e+01,  1.8320000e+01]],\n",
       "\n",
       "        [[-2.3939003e+01, -1.3778999e+01,  5.7320000e+01],\n",
       "         [-3.2939003e+01, -2.2778999e+01,  4.8320000e+01],\n",
       "         [-3.9939003e+01, -2.9778999e+01,  4.1320000e+01],\n",
       "         ...,\n",
       "         [-4.8939003e+01, -4.2778999e+01,  1.6320000e+01],\n",
       "         [-4.9939003e+01, -4.3778999e+01,  1.5320000e+01],\n",
       "         [-4.5939003e+01, -3.9778999e+01,  1.9320000e+01]],\n",
       "\n",
       "        [[-2.6939003e+01, -1.6778999e+01,  5.4320000e+01],\n",
       "         [-3.5939003e+01, -2.5778999e+01,  4.5320000e+01],\n",
       "         [-4.1939003e+01, -3.1778999e+01,  3.9320000e+01],\n",
       "         ...,\n",
       "         [-4.8939003e+01, -4.2778999e+01,  1.6320000e+01],\n",
       "         [-4.9939003e+01, -4.3778999e+01,  1.5320000e+01],\n",
       "         [-4.5939003e+01, -3.9778999e+01,  1.9320000e+01]]],\n",
       "\n",
       "\n",
       "       [[[ 1.4906100e+02,  1.3722101e+02,  1.2432000e+02],\n",
       "         [ 1.5006100e+02,  1.3822101e+02,  1.2532000e+02],\n",
       "         [ 1.5006100e+02,  1.3822101e+02,  1.2532000e+02],\n",
       "         ...,\n",
       "         [ 1.5106100e+02,  1.3722101e+02,  1.2832001e+02],\n",
       "         [ 1.5106100e+02,  1.3722101e+02,  1.2832001e+02],\n",
       "         [ 1.5106100e+02,  1.3722101e+02,  1.2832001e+02]],\n",
       "\n",
       "        [[ 1.4906100e+02,  1.3722101e+02,  1.2432000e+02],\n",
       "         [ 1.4906100e+02,  1.3722101e+02,  1.2432000e+02],\n",
       "         [ 1.5006100e+02,  1.3822101e+02,  1.2532000e+02],\n",
       "         ...,\n",
       "         [ 1.5106100e+02,  1.3722101e+02,  1.2832001e+02],\n",
       "         [ 1.5106100e+02,  1.3722101e+02,  1.2832001e+02],\n",
       "         [ 1.5106100e+02,  1.3722101e+02,  1.2832001e+02]],\n",
       "\n",
       "        [[ 1.4906100e+02,  1.3722101e+02,  1.2432000e+02],\n",
       "         [ 1.4906100e+02,  1.3722101e+02,  1.2432000e+02],\n",
       "         [ 1.5006100e+02,  1.3822101e+02,  1.2532000e+02],\n",
       "         ...,\n",
       "         [ 1.5106100e+02,  1.3722101e+02,  1.2832001e+02],\n",
       "         [ 1.5106100e+02,  1.3722101e+02,  1.2832001e+02],\n",
       "         [ 1.5106100e+02,  1.3722101e+02,  1.2832001e+02]],\n",
       "\n",
       "        ...,\n",
       "\n",
       "        [[ 1.5106100e+02,  1.3822101e+02,  1.3132001e+02],\n",
       "         [ 1.5106100e+02,  1.3822101e+02,  1.3132001e+02],\n",
       "         [ 1.5106100e+02,  1.3822101e+02,  1.3132001e+02],\n",
       "         ...,\n",
       "         [ 1.5106100e+02,  1.3822101e+02,  1.3132001e+02],\n",
       "         [ 1.5106100e+02,  1.3822101e+02,  1.3132001e+02],\n",
       "         [ 1.5106100e+02,  1.3822101e+02,  1.3132001e+02]],\n",
       "\n",
       "        [[ 1.5106100e+02,  1.3822101e+02,  1.3132001e+02],\n",
       "         [ 1.5106100e+02,  1.3822101e+02,  1.3132001e+02],\n",
       "         [ 1.5106100e+02,  1.3822101e+02,  1.3132001e+02],\n",
       "         ...,\n",
       "         [ 1.5106100e+02,  1.3822101e+02,  1.3132001e+02],\n",
       "         [ 1.5106100e+02,  1.3822101e+02,  1.3132001e+02],\n",
       "         [ 1.5106100e+02,  1.3822101e+02,  1.3132001e+02]],\n",
       "\n",
       "        [[ 1.5106100e+02,  1.3822101e+02,  1.3132001e+02],\n",
       "         [ 1.5106100e+02,  1.3822101e+02,  1.3132001e+02],\n",
       "         [ 1.5106100e+02,  1.3822101e+02,  1.3132001e+02],\n",
       "         ...,\n",
       "         [ 1.5106100e+02,  1.3822101e+02,  1.3132001e+02],\n",
       "         [ 1.5106100e+02,  1.3822101e+02,  1.3132001e+02],\n",
       "         [ 1.5106100e+02,  1.3822101e+02,  1.3132001e+02]]],\n",
       "\n",
       "\n",
       "       ...,\n",
       "\n",
       "\n",
       "       [[[-8.9390030e+00, -5.7789993e+00,  2.1320000e+01],\n",
       "         [-9.9390030e+00, -6.7789993e+00,  2.0320000e+01],\n",
       "         [-1.0939003e+01, -7.7789993e+00,  1.9320000e+01],\n",
       "         ...,\n",
       "         [-4.7939003e+01, -5.6778999e+01, -6.0680000e+01],\n",
       "         [-4.4939003e+01, -5.3778999e+01, -5.7680000e+01],\n",
       "         [-4.2939003e+01, -5.1778999e+01, -5.5680000e+01]],\n",
       "\n",
       "        [[-7.9390030e+00, -4.7789993e+00,  2.2320000e+01],\n",
       "         [-8.9390030e+00, -5.7789993e+00,  2.1320000e+01],\n",
       "         [-1.0939003e+01, -7.7789993e+00,  1.9320000e+01],\n",
       "         ...,\n",
       "         [-4.8939003e+01, -5.7778999e+01, -6.1680000e+01],\n",
       "         [-4.5939003e+01, -5.4778999e+01, -5.8680000e+01],\n",
       "         [-4.3939003e+01, -5.2778999e+01, -5.6680000e+01]],\n",
       "\n",
       "        [[-5.9390030e+00, -4.7789993e+00,  2.3320000e+01],\n",
       "         [-6.9390030e+00, -5.7789993e+00,  2.2320000e+01],\n",
       "         [-7.9390030e+00, -6.7789993e+00,  2.1320000e+01],\n",
       "         ...,\n",
       "         [-4.9939003e+01, -5.8778999e+01, -6.2680000e+01],\n",
       "         [-4.6939003e+01, -5.5778999e+01, -5.9680000e+01],\n",
       "         [-4.5939003e+01, -5.4778999e+01, -5.8680000e+01]],\n",
       "\n",
       "        ...,\n",
       "\n",
       "        [[-2.9939003e+01, -3.4778999e+01, -2.2680000e+01],\n",
       "         [-2.8939003e+01, -3.3778999e+01, -2.1680000e+01],\n",
       "         [-2.7939003e+01, -3.2778999e+01, -2.0680000e+01],\n",
       "         ...,\n",
       "         [-4.7939003e+01, -5.6778999e+01, -5.1680000e+01],\n",
       "         [-4.8939003e+01, -5.5778999e+01, -5.0680000e+01],\n",
       "         [-4.8939003e+01, -5.3778999e+01, -4.9680000e+01]],\n",
       "\n",
       "        [[-3.4939003e+01, -3.9778999e+01, -2.7680000e+01],\n",
       "         [-3.3939003e+01, -3.8778999e+01, -2.6680000e+01],\n",
       "         [-3.3939003e+01, -3.8778999e+01, -2.6680000e+01],\n",
       "         ...,\n",
       "         [-4.4939003e+01, -5.1778999e+01, -4.4680000e+01],\n",
       "         [-4.5939003e+01, -5.0778999e+01, -4.4680000e+01],\n",
       "         [-4.7939003e+01, -5.0778999e+01, -4.5680000e+01]],\n",
       "\n",
       "        [[-3.7939003e+01, -4.2778999e+01, -3.0680000e+01],\n",
       "         [-3.6939003e+01, -4.1778999e+01, -2.9680000e+01],\n",
       "         [-3.6939003e+01, -4.1778999e+01, -2.9680000e+01],\n",
       "         ...,\n",
       "         [-5.1939003e+01, -5.6778999e+01, -5.0680000e+01],\n",
       "         [-5.5939003e+01, -5.8778999e+01, -5.3680000e+01],\n",
       "         [-5.9939003e+01, -6.3778999e+01, -5.5680000e+01]]],\n",
       "\n",
       "\n",
       "       [[[ 4.6060997e+01,  5.7221001e+01,  8.8320000e+01],\n",
       "         [ 1.1060997e+01,  2.2221001e+01,  5.1320000e+01],\n",
       "         [-3.8939003e+01, -2.7778999e+01,  1.3199997e+00],\n",
       "         ...,\n",
       "         [ 8.7060997e+01,  7.9221001e+01,  7.5320000e+01],\n",
       "         [ 8.6060997e+01,  7.8221001e+01,  7.4320000e+01],\n",
       "         [ 8.5060997e+01,  7.7221001e+01,  7.3320000e+01]],\n",
       "\n",
       "        [[ 3.7060997e+01,  4.8221001e+01,  7.7320000e+01],\n",
       "         [ 1.1060997e+01,  2.2221001e+01,  5.1320000e+01],\n",
       "         [-2.9939003e+01, -1.8778999e+01,  1.0320000e+01],\n",
       "         ...,\n",
       "         [ 8.7060997e+01,  7.9221001e+01,  7.5320000e+01],\n",
       "         [ 8.6060997e+01,  7.8221001e+01,  7.4320000e+01],\n",
       "         [ 8.6060997e+01,  7.8221001e+01,  7.4320000e+01]],\n",
       "\n",
       "        [[ 3.4060997e+01,  4.5221001e+01,  7.2320000e+01],\n",
       "         [ 2.2060997e+01,  3.3221001e+01,  6.0320000e+01],\n",
       "         [-3.9390030e+00,  7.2210007e+00,  3.4320000e+01],\n",
       "         ...,\n",
       "         [ 8.9060997e+01,  8.1221001e+01,  7.7320000e+01],\n",
       "         [ 8.8060997e+01,  8.0221001e+01,  7.6320000e+01],\n",
       "         [ 8.7060997e+01,  7.9221001e+01,  7.5320000e+01]],\n",
       "\n",
       "        ...,\n",
       "\n",
       "        [[ 6.0997009e-02, -1.6778999e+01, -5.0680000e+01],\n",
       "         [-1.9390030e+00, -1.8778999e+01, -5.2680000e+01],\n",
       "         [-3.9390030e+00, -2.0778999e+01, -5.2680000e+01],\n",
       "         ...,\n",
       "         [-8.1939003e+01, -9.2778999e+01, -1.0068000e+02],\n",
       "         [-8.1939003e+01, -9.2778999e+01, -1.0068000e+02],\n",
       "         [-7.8939003e+01, -8.9778999e+01, -9.7680000e+01]],\n",
       "\n",
       "        [[ 1.0609970e+00, -1.7778999e+01, -5.0680000e+01],\n",
       "         [-9.3900299e-01, -1.9778999e+01, -5.0680000e+01],\n",
       "         [-4.9390030e+00, -2.1778999e+01, -5.3680000e+01],\n",
       "         ...,\n",
       "         [-8.1939003e+01, -9.2778999e+01, -1.0068000e+02],\n",
       "         [-7.9939003e+01, -9.0778999e+01, -9.8680000e+01],\n",
       "         [-7.7939003e+01, -8.8778999e+01, -9.6680000e+01]],\n",
       "\n",
       "        [[-2.9390030e+00, -2.1778999e+01, -5.2680000e+01],\n",
       "         [-4.9390030e+00, -2.3778999e+01, -5.4680000e+01],\n",
       "         [-8.9390030e+00, -2.6778999e+01, -5.5680000e+01],\n",
       "         ...,\n",
       "         [-8.1939003e+01, -9.2778999e+01, -1.0068000e+02],\n",
       "         [-7.9939003e+01, -9.0778999e+01, -9.8680000e+01],\n",
       "         [-7.7939003e+01, -8.8778999e+01, -9.6680000e+01]]],\n",
       "\n",
       "\n",
       "       [[[-1.9390030e+00, -7.7899933e-01,  1.3199997e+00],\n",
       "         [-9.3900299e-01,  2.2100067e-01,  2.3199997e+00],\n",
       "         [ 6.0997009e-02,  1.2210007e+00,  3.3199997e+00],\n",
       "         ...,\n",
       "         [ 2.6060997e+01,  4.9221001e+01,  5.8320000e+01],\n",
       "         [ 2.5060997e+01,  4.8221001e+01,  5.7320000e+01],\n",
       "         [ 2.7060997e+01,  5.0221001e+01,  5.9320000e+01]],\n",
       "\n",
       "        [[ 1.0609970e+00,  2.2210007e+00,  4.3199997e+00],\n",
       "         [ 6.0997009e-02,  1.2210007e+00,  3.3199997e+00],\n",
       "         [ 6.0997009e-02,  1.2210007e+00,  3.3199997e+00],\n",
       "         ...,\n",
       "         [ 2.6060997e+01,  4.9221001e+01,  5.8320000e+01],\n",
       "         [ 2.5060997e+01,  4.8221001e+01,  5.7320000e+01],\n",
       "         [ 2.8060997e+01,  5.1221001e+01,  6.0320000e+01]],\n",
       "\n",
       "        [[ 5.0609970e+00,  6.2210007e+00,  8.3199997e+00],\n",
       "         [ 1.0609970e+00,  2.2210007e+00,  4.3199997e+00],\n",
       "         [-1.9390030e+00, -7.7899933e-01,  1.3199997e+00],\n",
       "         ...,\n",
       "         [ 2.5060997e+01,  4.8221001e+01,  5.7320000e+01],\n",
       "         [ 2.5060997e+01,  4.8221001e+01,  5.7320000e+01],\n",
       "         [ 2.7060997e+01,  5.0221001e+01,  5.9320000e+01]],\n",
       "\n",
       "        ...,\n",
       "\n",
       "        [[ 7.9060997e+01,  7.4221001e+01,  7.0320000e+01],\n",
       "         [ 7.9060997e+01,  7.4221001e+01,  7.0320000e+01],\n",
       "         [ 8.0060997e+01,  7.5221001e+01,  7.1320000e+01],\n",
       "         ...,\n",
       "         [-8.7939003e+01, -1.0277900e+02, -1.0468000e+02],\n",
       "         [-8.8939003e+01, -1.0377900e+02, -1.0568000e+02],\n",
       "         [-8.8939003e+01, -1.0377900e+02, -1.0568000e+02]],\n",
       "\n",
       "        [[ 8.0060997e+01,  7.5221001e+01,  7.1320000e+01],\n",
       "         [ 8.0060997e+01,  7.5221001e+01,  7.1320000e+01],\n",
       "         [ 8.2060997e+01,  7.7221001e+01,  7.3320000e+01],\n",
       "         ...,\n",
       "         [-8.7939003e+01, -1.0277900e+02, -1.0468000e+02],\n",
       "         [-8.8939003e+01, -1.0377900e+02, -1.0568000e+02],\n",
       "         [-8.8939003e+01, -1.0477900e+02, -1.0468000e+02]],\n",
       "\n",
       "        [[ 8.1060997e+01,  7.6221001e+01,  7.2320000e+01],\n",
       "         [ 8.2060997e+01,  7.7221001e+01,  7.3320000e+01],\n",
       "         [ 8.3060997e+01,  7.8221001e+01,  7.4320000e+01],\n",
       "         ...,\n",
       "         [-8.7939003e+01, -1.0277900e+02, -1.0468000e+02],\n",
       "         [-8.8939003e+01, -1.0377900e+02, -1.0568000e+02],\n",
       "         [-8.8939003e+01, -1.0477900e+02, -1.0468000e+02]]]],\n",
       "      dtype=float32)"
      ]
     },
     "execution_count": 6,
     "metadata": {},
     "output_type": "execute_result"
    }
   ],
   "source": [
    "x = tf.keras.applications.vgg19.preprocess_input(x)\n",
    "x"
   ]
  },
  {
   "cell_type": "code",
   "execution_count": 7,
   "metadata": {},
   "outputs": [
    {
     "data": {
      "text/plain": [
       "Counter({0: 1502, 1: 1648, 2: 1600, 3: 1572})"
      ]
     },
     "execution_count": 7,
     "metadata": {},
     "output_type": "execute_result"
    }
   ],
   "source": [
    "Counter(y)"
   ]
  },
  {
   "cell_type": "code",
   "execution_count": 8,
   "metadata": {},
   "outputs": [
    {
     "name": "stdout",
     "output_type": "stream",
     "text": [
      "0 0.23758304334071495\n",
      "1 0.26067700094906676\n",
      "2 0.2530844669408415\n",
      "3 0.2486554887693768\n"
     ]
    }
   ],
   "source": [
    "for key, value in Counter(y).items():\n",
    "    print(key, value/y.shape[0])"
   ]
  },
  {
   "cell_type": "code",
   "execution_count": 9,
   "metadata": {},
   "outputs": [
    {
     "name": "stderr",
     "output_type": "stream",
     "text": [
      "Clipping input data to the valid range for imshow with RGB data ([0..1] for floats or [0..255] for integers).\n"
     ]
    },
    {
     "data": {
      "image/png": "[encoded data removed]",
      "text/plain": [
       "<Figure size 432x288 with 1 Axes>"
      ]
     },
     "metadata": {
      "needs_background": "light"
     },
     "output_type": "display_data"
    },
    {
     "name": "stderr",
     "output_type": "stream",
     "text": [
      "Clipping input data to the valid range for imshow with RGB data ([0..1] for floats or [0..255] for integers).\n"
     ]
    },
    {
     "name": "stdout",
     "output_type": "stream",
     "text": [
      "0\n"
     ]
    },
    {
     "data": {
      "image/png": "[encoded data removed]",
      "text/plain": [
       "<Figure size 432x288 with 1 Axes>"
      ]
     },
     "metadata": {
      "needs_background": "light"
     },
     "output_type": "display_data"
    },
    {
     "name": "stderr",
     "output_type": "stream",
     "text": [
      "Clipping input data to the valid range for imshow with RGB data ([0..1] for floats or [0..255] for integers).\n"
     ]
    },
    {
     "name": "stdout",
     "output_type": "stream",
     "text": [
      "0\n"
     ]
    },
    {
     "data": {
      "image/png": "[encoded data removed]",
      "text/plain": [
       "<Figure size 432x288 with 1 Axes>"
      ]
     },
     "metadata": {
      "needs_background": "light"
     },
     "output_type": "display_data"
    },
    {
     "name": "stderr",
     "output_type": "stream",
     "text": [
      "Clipping input data to the valid range for imshow with RGB data ([0..1] for floats or [0..255] for integers).\n"
     ]
    },
    {
     "name": "stdout",
     "output_type": "stream",
     "text": [
      "0\n"
     ]
    },
    {
     "data": {
      "image/png": "[encoded data removed]",
      "text/plain": [
       "<Figure size 432x288 with 1 Axes>"
      ]
     },
     "metadata": {
      "needs_background": "light"
     },
     "output_type": "display_data"
    },
    {
     "name": "stderr",
     "output_type": "stream",
     "text": [
      "Clipping input data to the valid range for imshow with RGB data ([0..1] for floats or [0..255] for integers).\n"
     ]
    },
    {
     "name": "stdout",
     "output_type": "stream",
     "text": [
      "0\n"
     ]
    },
    {
     "data": {
      "image/png": "[encoded data removed]",
      "text/plain": [
       "<Figure size 432x288 with 1 Axes>"
      ]
     },
     "metadata": {
      "needs_background": "light"
     },
     "output_type": "display_data"
    },
    {
     "name": "stderr",
     "output_type": "stream",
     "text": [
      "Clipping input data to the valid range for imshow with RGB data ([0..1] for floats or [0..255] for integers).\n"
     ]
    },
    {
     "name": "stdout",
     "output_type": "stream",
     "text": [
      "0\n"
     ]
    },
    {
     "data": {
      "image/png": "[encoded data removed]",
      "text/plain": [
       "<Figure size 432x288 with 1 Axes>"
      ]
     },
     "metadata": {
      "needs_background": "light"
     },
     "output_type": "display_data"
    },
    {
     "name": "stderr",
     "output_type": "stream",
     "text": [
      "Clipping input data to the valid range for imshow with RGB data ([0..1] for floats or [0..255] for integers).\n"
     ]
    },
    {
     "name": "stdout",
     "output_type": "stream",
     "text": [
      "0\n"
     ]
    },
    {
     "data": {
      "image/png": "[encoded data removed]",
      "text/plain": [
       "<Figure size 432x288 with 1 Axes>"
      ]
     },
     "metadata": {
      "needs_background": "light"
     },
     "output_type": "display_data"
    },
    {
     "name": "stderr",
     "output_type": "stream",
     "text": [
      "Clipping input data to the valid range for imshow with RGB data ([0..1] for floats or [0..255] for integers).\n"
     ]
    },
    {
     "name": "stdout",
     "output_type": "stream",
     "text": [
      "0\n"
     ]
    },
    {
     "data": {
      "image/png": "[encoded data removed]",
      "text/plain": [
       "<Figure size 432x288 with 1 Axes>"
      ]
     },
     "metadata": {
      "needs_background": "light"
     },
     "output_type": "display_data"
    },
    {
     "name": "stderr",
     "output_type": "stream",
     "text": [
      "Clipping input data to the valid range for imshow with RGB data ([0..1] for floats or [0..255] for integers).\n"
     ]
    },
    {
     "name": "stdout",
     "output_type": "stream",
     "text": [
      "0\n"
     ]
    },
    {
     "data": {
      "image/png": "[encoded data removed]",
      "text/plain": [
       "<Figure size 432x288 with 1 Axes>"
      ]
     },
     "metadata": {
      "needs_background": "light"
     },
     "output_type": "display_data"
    },
    {
     "name": "stderr",
     "output_type": "stream",
     "text": [
      "Clipping input data to the valid range for imshow with RGB data ([0..1] for floats or [0..255] for integers).\n"
     ]
    },
    {
     "name": "stdout",
     "output_type": "stream",
     "text": [
      "0\n"
     ]
    },
    {
     "data": {
      "image/png": "[encoded data removed]",
      "text/plain": [
       "<Figure size 432x288 with 1 Axes>"
      ]
     },
     "metadata": {
      "needs_background": "light"
     },
     "output_type": "display_data"
    },
    {
     "name": "stdout",
     "output_type": "stream",
     "text": [
      "0\n"
     ]
    }
   ],
   "source": [
    "for i in range(10,20):\n",
    "    plt.imshow(x[i])\n",
    "    plt.show()\n",
    "    print(y[i])"
   ]
  },
  {
   "cell_type": "code",
   "execution_count": 10,
   "metadata": {},
   "outputs": [
    {
     "name": "stdout",
     "output_type": "stream",
     "text": [
      "x_train : (5063, 224, 224, 3)\n",
      "y_train : (5063,)\n",
      "x_test : (633, 224, 224, 3)\n",
      "y_test : (633,)\n",
      "x_val : (626, 224, 224, 3)\n",
      "y_val:  (626,)\n"
     ]
    }
   ],
   "source": [
    "x_train,x_test,y_train,y_test=train_test_split(x,y,test_size=0.10, shuffle=True)\n",
    "x_train,x_val, y_train, y_val=train_test_split(x_train,y_train,test_size=0.11, shuffle=True) \n",
    "print(\"x_train :\", x_train.shape)\n",
    "print(\"y_train :\", y_train.shape)\n",
    "print(\"x_test :\", x_test.shape)\n",
    "print(\"y_test :\", y_test.shape)\n",
    "print(\"x_val :\", x_val.shape)\n",
    "print(\"y_val: \", y_val.shape)"
   ]
  },
  {
   "cell_type": "code",
   "execution_count": 11,
   "metadata": {},
   "outputs": [],
   "source": [
    "y_train=to_categorical(y_train, num_classes=4)\n",
    "y_test=to_categorical(y_test, num_classes=4)\n",
    "y_val=to_categorical(y_val, num_classes=4)"
   ]
  },
  {
   "cell_type": "code",
   "execution_count": 12,
   "metadata": {},
   "outputs": [],
   "source": [
    "# x_train=x_train/255\n",
    "# x_test=x_test/255\n",
    "# x_val=x_val/255"
   ]
  },
  {
   "cell_type": "code",
   "execution_count": 13,
   "metadata": {},
   "outputs": [],
   "source": [
    "es_callback = tf.keras.callbacks.EarlyStopping(monitor='val_loss', patience=10)\n",
    "\n",
    "model_checkpoint_callback = tf.keras.callbacks.ModelCheckpoint(\n",
    "    filepath='densenet_weights_7.h5',\n",
    "    monitor='val_acc',\n",
    "    mode='max',\n",
    "    verbose=1,\n",
    "    save_best_only=True)\n",
    "\n",
    "datagen=ImageDataGenerator(\n",
    "    rotation_range=20,\n",
    "    width_shift_range=0.20,\n",
    "    height_shift_range=0.20,\n",
    "    horizontal_flip=True,\n",
    "    zoom_range=0.15,\n",
    "    vertical_flip=True,\n",
    "    fill_mode='nearest')\n"
   ]
  },
  {
   "cell_type": "code",
   "execution_count": 14,
   "metadata": {},
   "outputs": [],
   "source": [
    "image_height=224\n",
    "image_width=224"
   ]
  },
  {
   "cell_type": "code",
   "execution_count": 15,
   "metadata": {},
   "outputs": [],
   "source": [
    "from tensorflow.keras import backend as K"
   ]
  },
  {
   "cell_type": "code",
   "execution_count": 16,
   "metadata": {},
   "outputs": [
    {
     "name": "stdout",
     "output_type": "stream",
     "text": [
      "WARNING:tensorflow:From C:\\Users\\sayus\\miniconda3\\envs\\te\\lib\\site-packages\\tensorflow\\python\\ops\\init_ops.py:1251: calling VarianceScaling.__init__ (from tensorflow.python.ops.init_ops) with dtype is deprecated and will be removed in a future version.\n",
      "Instructions for updating:\n",
      "Call initializer instance with the dtype argument instead of passing it to the constructor\n",
      "Downloading data from https://github.com/fchollet/deep-learning-models/releases/download/v0.1/vgg19_weights_tf_dim_ordering_tf_kernels_notop.h5\n",
      "80142336/80134624 [==============================] - 8s 0us/step\n",
      "Model: \"model\"\n",
      "_________________________________________________________________\n",
      "Layer (type)                 Output Shape              Param #   \n",
      "=================================================================\n",
      "input_1 (InputLayer)         [(None, 224, 224, 3)]     0         \n",
      "_________________________________________________________________\n",
      "block1_conv1 (Conv2D)        (None, 224, 224, 64)      1792      \n",
      "_________________________________________________________________\n",
      "block1_conv2 (Conv2D)        (None, 224, 224, 64)      36928     \n",
      "_________________________________________________________________\n",
      "block1_pool (MaxPooling2D)   (None, 112, 112, 64)      0         \n",
      "_________________________________________________________________\n",
      "block2_conv1 (Conv2D)        (None, 112, 112, 128)     73856     \n",
      "_________________________________________________________________\n",
      "block2_conv2 (Conv2D)        (None, 112, 112, 128)     147584    \n",
      "_________________________________________________________________\n",
      "block2_pool (MaxPooling2D)   (None, 56, 56, 128)       0         \n",
      "_________________________________________________________________\n",
      "block3_conv1 (Conv2D)        (None, 56, 56, 256)       295168    \n",
      "_________________________________________________________________\n",
      "block3_conv2 (Conv2D)        (None, 56, 56, 256)       590080    \n",
      "_________________________________________________________________\n",
      "block3_conv3 (Conv2D)        (None, 56, 56, 256)       590080    \n",
      "_________________________________________________________________\n",
      "block3_conv4 (Conv2D)        (None, 56, 56, 256)       590080    \n",
      "_________________________________________________________________\n",
      "block3_pool (MaxPooling2D)   (None, 28, 28, 256)       0         \n",
      "_________________________________________________________________\n",
      "block4_conv1 (Conv2D)        (None, 28, 28, 512)       1180160   \n",
      "_________________________________________________________________\n",
      "block4_conv2 (Conv2D)        (None, 28, 28, 512)       2359808   \n",
      "_________________________________________________________________\n",
      "block4_conv3 (Conv2D)        (None, 28, 28, 512)       2359808   \n",
      "_________________________________________________________________\n",
      "block4_conv4 (Conv2D)        (None, 28, 28, 512)       2359808   \n",
      "_________________________________________________________________\n",
      "block4_pool (MaxPooling2D)   (None, 14, 14, 512)       0         \n",
      "_________________________________________________________________\n",
      "block5_conv1 (Conv2D)        (None, 14, 14, 512)       2359808   \n",
      "_________________________________________________________________\n",
      "block5_conv2 (Conv2D)        (None, 14, 14, 512)       2359808   \n",
      "_________________________________________________________________\n",
      "block5_conv3 (Conv2D)        (None, 14, 14, 512)       2359808   \n",
      "_________________________________________________________________\n",
      "block5_conv4 (Conv2D)        (None, 14, 14, 512)       2359808   \n",
      "_________________________________________________________________\n",
      "block5_pool (MaxPooling2D)   (None, 7, 7, 512)         0         \n",
      "_________________________________________________________________\n",
      "flatten (Flatten)            (None, 25088)             0         \n",
      "_________________________________________________________________\n",
      "dense (Dense)                (None, 512)               12845568  \n",
      "_________________________________________________________________\n",
      "dropout (Dropout)            (None, 512)               0         \n",
      "_________________________________________________________________\n",
      "batch_normalization (BatchNo (None, 512)               2048      \n",
      "_________________________________________________________________\n",
      "dense_1 (Dense)              (None, 256)               131328    \n",
      "_________________________________________________________________\n",
      "dense_2 (Dense)              (None, 4)                 1028      \n",
      "=================================================================\n",
      "Total params: 33,004,356\n",
      "Trainable params: 12,978,948\n",
      "Non-trainable params: 20,025,408\n",
      "_________________________________________________________________\n",
      "None\n"
     ]
    }
   ],
   "source": [
    "drop=0.3\n",
    "#K.set_learning_phase(0)\n",
    "densenet=tf.keras.applications.vgg19.VGG19(\n",
    "    include_top=False,\n",
    "    weights=\"imagenet\",\n",
    "    input_tensor=None,\n",
    "    input_shape=(224,224,3),\n",
    "    pooling=None)\n",
    "    #classes=4,\n",
    "#densenet.trainable=False\n",
    "# i=0\n",
    "for layer in densenet.layers:\n",
    "#     if i > 80:\n",
    "#         break\n",
    "    layer.trainable=False\n",
    "\n",
    "    \n",
    "\n",
    "#K.set_learning_phase(1)\n",
    "x=densenet.output\n",
    "x=tf.keras.layers.Flatten()(x)\n",
    "x=tf.keras.layers.Dense(512,activation='relu')(x)\n",
    "x=tf.keras.layers.Dropout(drop)(x)\n",
    "x=tf.keras.layers.BatchNormalization()(x)\n",
    "x=tf.keras.layers.Dense(256,activation='relu')(x)\n",
    "p=tf.keras.layers.Dense(4,activation='softmax')(x)\n",
    "model=tf.keras.Model(inputs=densenet.input, outputs=p)\n",
    "\n",
    "\n",
    "\n",
    "\n",
    "print(model.summary())"
   ]
  },
  {
   "cell_type": "code",
   "execution_count": 17,
   "metadata": {},
   "outputs": [],
   "source": [
    "#opt=tf.keras.optimizers.Adam(lr=0.000055)\n",
    "initial_learning_rate = 0.0001\n",
    "def scheduler(epoch, lr):\n",
    "    if epoch == 0:\n",
    "        return lr\n",
    "    if epoch % 10 == 0:\n",
    "        return lr * 0.1\n",
    "    else:\n",
    "        return lr\n",
    "lr_callback = tf.keras.callbacks.LearningRateScheduler(scheduler, verbose=1)\n",
    "opt=tf.keras.optimizers.Adam(lr=initial_learning_rate)\n",
    "model.compile(loss='categorical_crossentropy', optimizer=opt, metrics=['accuracy'])\n"
   ]
  },
  {
   "cell_type": "code",
   "execution_count": 18,
   "metadata": {},
   "outputs": [
    {
     "name": "stdout",
     "output_type": "stream",
     "text": [
      "Train on 5063 samples, validate on 626 samples\n",
      "\n",
      "Epoch 00001: LearningRateScheduler reducing learning rate to 9.999999747378752e-05.\n",
      "Epoch 1/30\n",
      "5056/5063 [============================>.] - ETA: 0s - loss: 1.2922 - acc: 0.4446\n",
      "Epoch 00001: val_acc improved from -inf to 0.52077, saving model to densenet_weights_7.h5\n",
      "5063/5063 [==============================] - 97s 19ms/sample - loss: 1.2920 - acc: 0.4442 - val_loss: 1.1974 - val_acc: 0.5208\n",
      "\n",
      "Epoch 00002: LearningRateScheduler reducing learning rate to 9.999999747378752e-05.\n",
      "Epoch 2/30\n",
      "5056/5063 [============================>.] - ETA: 0s - loss: 0.7584 - acc: 0.6968\n",
      "Epoch 00002: val_acc improved from 0.52077 to 0.53355, saving model to densenet_weights_7.h5\n",
      "5063/5063 [==============================] - 91s 18ms/sample - loss: 0.7575 - acc: 0.6972 - val_loss: 1.1719 - val_acc: 0.5335\n",
      "\n",
      "Epoch 00003: LearningRateScheduler reducing learning rate to 9.999999747378752e-05.\n",
      "Epoch 3/30\n",
      "5056/5063 [============================>.] - ETA: 0s - loss: 0.5189 - acc: 0.8180\n",
      "Epoch 00003: val_acc improved from 0.53355 to 0.56709, saving model to densenet_weights_7.h5\n",
      "5063/5063 [==============================] - 90s 18ms/sample - loss: 0.5191 - acc: 0.8181 - val_loss: 1.1809 - val_acc: 0.5671\n",
      "\n",
      "Epoch 00004: LearningRateScheduler reducing learning rate to 9.999999747378752e-05.\n",
      "Epoch 4/30\n",
      "5056/5063 [============================>.] - ETA: 0s - loss: 0.3915 - acc: 0.8699\n",
      "Epoch 00004: val_acc did not improve from 0.56709\n",
      "5063/5063 [==============================] - 88s 17ms/sample - loss: 0.3914 - acc: 0.8698 - val_loss: 1.1598 - val_acc: 0.5671\n",
      "\n",
      "Epoch 00005: LearningRateScheduler reducing learning rate to 9.999999747378752e-05.\n",
      "Epoch 5/30\n",
      "5056/5063 [============================>.] - ETA: 0s - loss: 0.3013 - acc: 0.9045\n",
      "Epoch 00005: val_acc improved from 0.56709 to 0.57668, saving model to densenet_weights_7.h5\n",
      "5063/5063 [==============================] - 89s 18ms/sample - loss: 0.3012 - acc: 0.9046 - val_loss: 1.2443 - val_acc: 0.5767\n",
      "\n",
      "Epoch 00006: LearningRateScheduler reducing learning rate to 9.999999747378752e-05.\n",
      "Epoch 6/30\n",
      "5056/5063 [============================>.] - ETA: 0s - loss: 0.2669 - acc: 0.9144\n",
      "Epoch 00006: val_acc improved from 0.57668 to 0.60224, saving model to densenet_weights_7.h5\n",
      "5063/5063 [==============================] - 90s 18ms/sample - loss: 0.2679 - acc: 0.9139 - val_loss: 1.2472 - val_acc: 0.6022\n",
      "\n",
      "Epoch 00007: LearningRateScheduler reducing learning rate to 9.999999747378752e-05.\n",
      "Epoch 7/30\n",
      "5056/5063 [============================>.] - ETA: 0s - loss: 0.2181 - acc: 0.9262\n",
      "Epoch 00007: val_acc did not improve from 0.60224\n",
      "5063/5063 [==============================] - 90s 18ms/sample - loss: 0.2179 - acc: 0.9263 - val_loss: 1.2612 - val_acc: 0.5799\n",
      "\n",
      "Epoch 00008: LearningRateScheduler reducing learning rate to 9.999999747378752e-05.\n",
      "Epoch 8/30\n",
      "5056/5063 [============================>.] - ETA: 0s - loss: 0.1920 - acc: 0.9365\n",
      "Epoch 00008: val_acc did not improve from 0.60224\n",
      "5063/5063 [==============================] - 89s 18ms/sample - loss: 0.1920 - acc: 0.9366 - val_loss: 1.3069 - val_acc: 0.5895\n",
      "\n",
      "Epoch 00009: LearningRateScheduler reducing learning rate to 9.999999747378752e-05.\n",
      "Epoch 9/30\n",
      "5056/5063 [============================>.] - ETA: 0s - loss: 0.1850 - acc: 0.9393\n",
      "Epoch 00009: val_acc did not improve from 0.60224\n",
      "5063/5063 [==============================] - 90s 18ms/sample - loss: 0.1855 - acc: 0.9390 - val_loss: 1.3237 - val_acc: 0.5942\n",
      "\n",
      "Epoch 00010: LearningRateScheduler reducing learning rate to 9.999999747378752e-05.\n",
      "Epoch 10/30\n",
      "5056/5063 [============================>.] - ETA: 0s - loss: 0.1753 - acc: 0.9450\n",
      "Epoch 00010: val_acc improved from 0.60224 to 0.60383, saving model to densenet_weights_7.h5\n",
      "5063/5063 [==============================] - 91s 18ms/sample - loss: 0.1751 - acc: 0.9451 - val_loss: 1.3023 - val_acc: 0.6038\n",
      "\n",
      "Epoch 00011: LearningRateScheduler reducing learning rate to 9.999999747378752e-06.\n",
      "Epoch 11/30\n",
      "5056/5063 [============================>.] - ETA: 0s - loss: 0.1462 - acc: 0.9531\n",
      "Epoch 00011: val_acc improved from 0.60383 to 0.60703, saving model to densenet_weights_7.h5\n",
      "5063/5063 [==============================] - 91s 18ms/sample - loss: 0.1460 - acc: 0.9532 - val_loss: 1.2718 - val_acc: 0.6070\n",
      "\n",
      "Epoch 00012: LearningRateScheduler reducing learning rate to 9.999999747378752e-06.\n",
      "Epoch 12/30\n",
      "5056/5063 [============================>.] - ETA: 0s - loss: 0.1288 - acc: 0.9581\n",
      "Epoch 00012: val_acc improved from 0.60703 to 0.61022, saving model to densenet_weights_7.h5\n",
      "5063/5063 [==============================] - 91s 18ms/sample - loss: 0.1287 - acc: 0.9581 - val_loss: 1.2957 - val_acc: 0.6102\n",
      "\n",
      "Epoch 00013: LearningRateScheduler reducing learning rate to 9.999999747378752e-06.\n",
      "Epoch 13/30\n",
      "5056/5063 [============================>.] - ETA: 0s - loss: 0.1177 - acc: 0.9650\n",
      "Epoch 00013: val_acc improved from 0.61022 to 0.61502, saving model to densenet_weights_7.h5\n",
      "5063/5063 [==============================] - 91s 18ms/sample - loss: 0.1176 - acc: 0.9650 - val_loss: 1.2887 - val_acc: 0.6150\n",
      "\n",
      "Epoch 00014: LearningRateScheduler reducing learning rate to 9.999999747378752e-06.\n",
      "Epoch 14/30\n",
      "5056/5063 [============================>.] - ETA: 0s - loss: 0.1024 - acc: 0.9713\n",
      "Epoch 00014: val_acc did not improve from 0.61502\n",
      "5063/5063 [==============================] - 101s 20ms/sample - loss: 0.1023 - acc: 0.9714 - val_loss: 1.2881 - val_acc: 0.6086\n",
      "\n",
      "Epoch 00015: LearningRateScheduler reducing learning rate to 9.999999747378752e-06.\n",
      "Epoch 15/30\n",
      "5056/5063 [============================>.] - ETA: 0s - loss: 0.1019 - acc: 0.9678\n",
      "Epoch 00015: val_acc did not improve from 0.61502\n",
      "5063/5063 [==============================] - 109s 22ms/sample - loss: 0.1019 - acc: 0.9678 - val_loss: 1.2846 - val_acc: 0.6022\n",
      "\n",
      "Epoch 00016: LearningRateScheduler reducing learning rate to 9.999999747378752e-06.\n",
      "Epoch 16/30\n",
      "5056/5063 [============================>.] - ETA: 0s - loss: 0.0966 - acc: 0.9737\n",
      "Epoch 00016: val_acc did not improve from 0.61502\n",
      "5063/5063 [==============================] - 111s 22ms/sample - loss: 0.0965 - acc: 0.9737 - val_loss: 1.2927 - val_acc: 0.6134\n",
      "\n",
      "Epoch 00017: LearningRateScheduler reducing learning rate to 9.999999747378752e-06.\n",
      "Epoch 17/30\n",
      "5056/5063 [============================>.] - ETA: 0s - loss: 0.0936 - acc: 0.9723\n",
      "Epoch 00017: val_acc did not improve from 0.61502\n",
      "5063/5063 [==============================] - 112s 22ms/sample - loss: 0.0935 - acc: 0.9723 - val_loss: 1.3018 - val_acc: 0.6118\n",
      "\n",
      "Epoch 00018: LearningRateScheduler reducing learning rate to 9.999999747378752e-06.\n",
      "Epoch 18/30\n",
      "5056/5063 [============================>.] - ETA: 0s - loss: 0.0857 - acc: 0.9761\n",
      "Epoch 00018: val_acc improved from 0.61502 to 0.62141, saving model to densenet_weights_7.h5\n",
      "5063/5063 [==============================] - 113s 22ms/sample - loss: 0.0856 - acc: 0.9761 - val_loss: 1.3107 - val_acc: 0.6214\n",
      "\n",
      "Epoch 00019: LearningRateScheduler reducing learning rate to 9.999999747378752e-06.\n",
      "Epoch 19/30\n",
      "5056/5063 [============================>.] - ETA: 0s - loss: 0.0878 - acc: 0.9749\n",
      "Epoch 00019: val_acc did not improve from 0.62141\n",
      "5063/5063 [==============================] - 110s 22ms/sample - loss: 0.0877 - acc: 0.9749 - val_loss: 1.3345 - val_acc: 0.6118\n",
      "\n",
      "Epoch 00020: LearningRateScheduler reducing learning rate to 9.999999747378752e-06.\n",
      "Epoch 20/30\n",
      "5056/5063 [============================>.] - ETA: 0s - loss: 0.0722 - acc: 0.9798\n",
      "Epoch 00020: val_acc did not improve from 0.62141\n",
      "5063/5063 [==============================] - 110s 22ms/sample - loss: 0.0721 - acc: 0.9799 - val_loss: 1.3197 - val_acc: 0.6182\n",
      "\n",
      "Epoch 00021: LearningRateScheduler reducing learning rate to 9.999999747378752e-07.\n",
      "Epoch 21/30\n",
      "5056/5063 [============================>.] - ETA: 0s - loss: 0.0649 - acc: 0.9832\n",
      "Epoch 00021: val_acc did not improve from 0.62141\n",
      "5063/5063 [==============================] - 110s 22ms/sample - loss: 0.0648 - acc: 0.9832 - val_loss: 1.3335 - val_acc: 0.6166\n",
      "\n",
      "Epoch 00022: LearningRateScheduler reducing learning rate to 9.999999974752427e-07.\n",
      "Epoch 22/30\n",
      "5056/5063 [============================>.] - ETA: 0s - loss: 0.0723 - acc: 0.9784\n",
      "Epoch 00022: val_acc improved from 0.62141 to 0.62300, saving model to densenet_weights_7.h5\n"
     ]
    },
    {
     "name": "stdout",
     "output_type": "stream",
     "text": [
      "5063/5063 [==============================] - 116s 23ms/sample - loss: 0.0723 - acc: 0.9785 - val_loss: 1.3322 - val_acc: 0.6230\n",
      "\n",
      "Epoch 00023: LearningRateScheduler reducing learning rate to 9.999999974752427e-07.\n",
      "Epoch 23/30\n",
      "5056/5063 [============================>.] - ETA: 0s - loss: 0.0752 - acc: 0.9792\n",
      "Epoch 00023: val_acc did not improve from 0.62300\n",
      "5063/5063 [==============================] - 110s 22ms/sample - loss: 0.0751 - acc: 0.9793 - val_loss: 1.3354 - val_acc: 0.6150\n",
      "\n",
      "Epoch 00024: LearningRateScheduler reducing learning rate to 9.999999974752427e-07.\n",
      "Epoch 24/30\n",
      "5056/5063 [============================>.] - ETA: 0s - loss: 0.0661 - acc: 0.9812\n",
      "Epoch 00024: val_acc improved from 0.62300 to 0.62460, saving model to densenet_weights_7.h5\n",
      "5063/5063 [==============================] - 116s 23ms/sample - loss: 0.0662 - acc: 0.9812 - val_loss: 1.3237 - val_acc: 0.6246\n",
      "\n",
      "Epoch 00025: LearningRateScheduler reducing learning rate to 9.999999974752427e-07.\n",
      "Epoch 25/30\n",
      "5056/5063 [============================>.] - ETA: 0s - loss: 0.0704 - acc: 0.9820\n",
      "Epoch 00025: val_acc did not improve from 0.62460\n",
      "5063/5063 [==============================] - 124s 24ms/sample - loss: 0.0704 - acc: 0.9820 - val_loss: 1.3135 - val_acc: 0.6182\n",
      "\n",
      "Epoch 00026: LearningRateScheduler reducing learning rate to 9.999999974752427e-07.\n",
      "Epoch 26/30\n",
      "1384/5063 [=======>......................] - ETA: 1:22 - loss: 0.0858 - acc: 0.9740"
     ]
    },
    {
     "ename": "KeyboardInterrupt",
     "evalue": "",
     "output_type": "error",
     "traceback": [
      "\u001b[1;31m---------------------------------------------------------------------------\u001b[0m",
      "\u001b[1;31mKeyboardInterrupt\u001b[0m                         Traceback (most recent call last)",
      "\u001b[1;32m<ipython-input-18-92b564bf257f>\u001b[0m in \u001b[0;36m<module>\u001b[1;34m\u001b[0m\n\u001b[1;32m----> 1\u001b[1;33m \u001b[0mhistory\u001b[0m\u001b[1;33m=\u001b[0m\u001b[0mmodel\u001b[0m\u001b[1;33m.\u001b[0m\u001b[0mfit\u001b[0m\u001b[1;33m(\u001b[0m\u001b[0mx_train\u001b[0m\u001b[1;33m,\u001b[0m \u001b[0my_train\u001b[0m\u001b[1;33m,\u001b[0m \u001b[0mvalidation_data\u001b[0m\u001b[1;33m=\u001b[0m\u001b[1;33m(\u001b[0m\u001b[0mx_val\u001b[0m\u001b[1;33m,\u001b[0m \u001b[0my_val\u001b[0m\u001b[1;33m)\u001b[0m\u001b[1;33m,\u001b[0m \u001b[0mepochs\u001b[0m\u001b[1;33m=\u001b[0m\u001b[1;36m30\u001b[0m\u001b[1;33m,\u001b[0m \u001b[0mbatch_size\u001b[0m\u001b[1;33m=\u001b[0m\u001b[1;36m8\u001b[0m\u001b[1;33m,\u001b[0m \u001b[0mcallbacks\u001b[0m\u001b[1;33m=\u001b[0m\u001b[1;33m[\u001b[0m \u001b[0mlr_callback\u001b[0m\u001b[1;33m,\u001b[0m\u001b[0mmodel_checkpoint_callback\u001b[0m\u001b[1;33m]\u001b[0m\u001b[1;33m,\u001b[0m \u001b[0mshuffle\u001b[0m\u001b[1;33m=\u001b[0m\u001b[1;32mTrue\u001b[0m\u001b[1;33m)\u001b[0m\u001b[1;33m\u001b[0m\u001b[1;33m\u001b[0m\u001b[0m\n\u001b[0m\u001b[0;32m      2\u001b[0m \u001b[1;33m\u001b[0m\u001b[0m\n\u001b[0;32m      3\u001b[0m \u001b[1;31m#history=model.fit_generator(datagen.flow(x_train, y_train, batch_size=8), steps_per_epoch=len(x_train)/8, epochs=30, validation_data=(x_val,y_val), callbacks=[lr_callback, model_checkpoint_callback], shuffle=True)#, class_weight=class_weights)\u001b[0m\u001b[1;33m\u001b[0m\u001b[1;33m\u001b[0m\u001b[1;33m\u001b[0m\u001b[0m\n",
      "\u001b[1;32m~\\miniconda3\\envs\\te\\lib\\site-packages\\tensorflow\\python\\keras\\engine\\training.py\u001b[0m in \u001b[0;36mfit\u001b[1;34m(self, x, y, batch_size, epochs, verbose, callbacks, validation_split, validation_data, shuffle, class_weight, sample_weight, initial_epoch, steps_per_epoch, validation_steps, validation_freq, max_queue_size, workers, use_multiprocessing, **kwargs)\u001b[0m\n\u001b[0;32m    778\u001b[0m           \u001b[0mvalidation_steps\u001b[0m\u001b[1;33m=\u001b[0m\u001b[0mvalidation_steps\u001b[0m\u001b[1;33m,\u001b[0m\u001b[1;33m\u001b[0m\u001b[1;33m\u001b[0m\u001b[0m\n\u001b[0;32m    779\u001b[0m           \u001b[0mvalidation_freq\u001b[0m\u001b[1;33m=\u001b[0m\u001b[0mvalidation_freq\u001b[0m\u001b[1;33m,\u001b[0m\u001b[1;33m\u001b[0m\u001b[1;33m\u001b[0m\u001b[0m\n\u001b[1;32m--> 780\u001b[1;33m           steps_name='steps_per_epoch')\n\u001b[0m\u001b[0;32m    781\u001b[0m \u001b[1;33m\u001b[0m\u001b[0m\n\u001b[0;32m    782\u001b[0m   def evaluate(self,\n",
      "\u001b[1;32m~\\miniconda3\\envs\\te\\lib\\site-packages\\tensorflow\\python\\keras\\engine\\training_arrays.py\u001b[0m in \u001b[0;36mmodel_iteration\u001b[1;34m(model, inputs, targets, sample_weights, batch_size, epochs, verbose, callbacks, val_inputs, val_targets, val_sample_weights, shuffle, initial_epoch, steps_per_epoch, validation_steps, validation_freq, mode, validation_in_fit, prepared_feed_values_from_dataset, steps_name, **kwargs)\u001b[0m\n\u001b[0;32m    361\u001b[0m \u001b[1;33m\u001b[0m\u001b[0m\n\u001b[0;32m    362\u001b[0m         \u001b[1;31m# Get outputs.\u001b[0m\u001b[1;33m\u001b[0m\u001b[1;33m\u001b[0m\u001b[1;33m\u001b[0m\u001b[0m\n\u001b[1;32m--> 363\u001b[1;33m         \u001b[0mbatch_outs\u001b[0m \u001b[1;33m=\u001b[0m \u001b[0mf\u001b[0m\u001b[1;33m(\u001b[0m\u001b[0mins_batch\u001b[0m\u001b[1;33m)\u001b[0m\u001b[1;33m\u001b[0m\u001b[1;33m\u001b[0m\u001b[0m\n\u001b[0m\u001b[0;32m    364\u001b[0m         \u001b[1;32mif\u001b[0m \u001b[1;32mnot\u001b[0m \u001b[0misinstance\u001b[0m\u001b[1;33m(\u001b[0m\u001b[0mbatch_outs\u001b[0m\u001b[1;33m,\u001b[0m \u001b[0mlist\u001b[0m\u001b[1;33m)\u001b[0m\u001b[1;33m:\u001b[0m\u001b[1;33m\u001b[0m\u001b[1;33m\u001b[0m\u001b[0m\n\u001b[0;32m    365\u001b[0m           \u001b[0mbatch_outs\u001b[0m \u001b[1;33m=\u001b[0m \u001b[1;33m[\u001b[0m\u001b[0mbatch_outs\u001b[0m\u001b[1;33m]\u001b[0m\u001b[1;33m\u001b[0m\u001b[1;33m\u001b[0m\u001b[0m\n",
      "\u001b[1;32m~\\miniconda3\\envs\\te\\lib\\site-packages\\tensorflow\\python\\keras\\backend.py\u001b[0m in \u001b[0;36m__call__\u001b[1;34m(self, inputs)\u001b[0m\n\u001b[0;32m   3290\u001b[0m \u001b[1;33m\u001b[0m\u001b[0m\n\u001b[0;32m   3291\u001b[0m     fetched = self._callable_fn(*array_vals,\n\u001b[1;32m-> 3292\u001b[1;33m                                 run_metadata=self.run_metadata)\n\u001b[0m\u001b[0;32m   3293\u001b[0m     \u001b[0mself\u001b[0m\u001b[1;33m.\u001b[0m\u001b[0m_call_fetch_callbacks\u001b[0m\u001b[1;33m(\u001b[0m\u001b[0mfetched\u001b[0m\u001b[1;33m[\u001b[0m\u001b[1;33m-\u001b[0m\u001b[0mlen\u001b[0m\u001b[1;33m(\u001b[0m\u001b[0mself\u001b[0m\u001b[1;33m.\u001b[0m\u001b[0m_fetches\u001b[0m\u001b[1;33m)\u001b[0m\u001b[1;33m:\u001b[0m\u001b[1;33m]\u001b[0m\u001b[1;33m)\u001b[0m\u001b[1;33m\u001b[0m\u001b[1;33m\u001b[0m\u001b[0m\n\u001b[0;32m   3294\u001b[0m     output_structure = nest.pack_sequence_as(\n",
      "\u001b[1;32m~\\miniconda3\\envs\\te\\lib\\site-packages\\tensorflow\\python\\client\\session.py\u001b[0m in \u001b[0;36m__call__\u001b[1;34m(self, *args, **kwargs)\u001b[0m\n\u001b[0;32m   1456\u001b[0m         ret = tf_session.TF_SessionRunCallable(self._session._session,\n\u001b[0;32m   1457\u001b[0m                                                \u001b[0mself\u001b[0m\u001b[1;33m.\u001b[0m\u001b[0m_handle\u001b[0m\u001b[1;33m,\u001b[0m \u001b[0margs\u001b[0m\u001b[1;33m,\u001b[0m\u001b[1;33m\u001b[0m\u001b[1;33m\u001b[0m\u001b[0m\n\u001b[1;32m-> 1458\u001b[1;33m                                                run_metadata_ptr)\n\u001b[0m\u001b[0;32m   1459\u001b[0m         \u001b[1;32mif\u001b[0m \u001b[0mrun_metadata\u001b[0m\u001b[1;33m:\u001b[0m\u001b[1;33m\u001b[0m\u001b[1;33m\u001b[0m\u001b[0m\n\u001b[0;32m   1460\u001b[0m           \u001b[0mproto_data\u001b[0m \u001b[1;33m=\u001b[0m \u001b[0mtf_session\u001b[0m\u001b[1;33m.\u001b[0m\u001b[0mTF_GetBuffer\u001b[0m\u001b[1;33m(\u001b[0m\u001b[0mrun_metadata_ptr\u001b[0m\u001b[1;33m)\u001b[0m\u001b[1;33m\u001b[0m\u001b[1;33m\u001b[0m\u001b[0m\n",
      "\u001b[1;31mKeyboardInterrupt\u001b[0m: "
     ]
    }
   ],
   "source": [
    "history=model.fit(x_train, y_train, validation_data=(x_val, y_val), epochs=30, batch_size=8, callbacks=[ lr_callback,model_checkpoint_callback], shuffle=True)\n",
    "\n",
    "#history=model.fit_generator(datagen.flow(x_train, y_train, batch_size=8), steps_per_epoch=len(x_train)/8, epochs=30, validation_data=(x_val,y_val), callbacks=[lr_callback, model_checkpoint_callback], shuffle=True)#, class_weight=class_weights)"
   ]
  },
  {
   "cell_type": "code",
   "execution_count": 19,
   "metadata": {},
   "outputs": [
    {
     "data": {
      "image/png": "[encoded data removed]",
      "text/plain": [
       "<Figure size 432x288 with 1 Axes>"
      ]
     },
     "metadata": {
      "needs_background": "light"
     },
     "output_type": "display_data"
    }
   ],
   "source": [
    "plt.plot(history.history['acc'])\n",
    "plt.plot(history.history['val_acc'])\n",
    "plt.plot(history.history['loss'])\n",
    "plt.plot(history.history['val_loss'])\n",
    "plt.title('Model Accuracy/Model Loss')\n",
    "plt.ylabel('acc/loss')\n",
    "plt.xlabel('epochs')\n",
    "plt.legend(('acc','val_acc', 'loss', 'val_loss'), loc='upper right')\n",
    "plt.savefig('test.jpg')\n",
    "plt.show()"
   ]
  },
  {
   "cell_type": "code",
   "execution_count": 19,
   "metadata": {},
   "outputs": [],
   "source": [
    "from tensorflow.keras.models import load_model"
   ]
  },
  {
   "cell_type": "code",
   "execution_count": 20,
   "metadata": {},
   "outputs": [
    {
     "name": "stdout",
     "output_type": "stream",
     "text": [
      "WARNING:tensorflow:From C:\\Users\\sayus\\miniconda3\\envs\\te\\lib\\site-packages\\tensorflow\\python\\ops\\init_ops.py:97: calling GlorotUniform.__init__ (from tensorflow.python.ops.init_ops) with dtype is deprecated and will be removed in a future version.\n",
      "Instructions for updating:\n",
      "Call initializer instance with the dtype argument instead of passing it to the constructor\n",
      "WARNING:tensorflow:From C:\\Users\\sayus\\miniconda3\\envs\\te\\lib\\site-packages\\tensorflow\\python\\ops\\init_ops.py:97: calling Zeros.__init__ (from tensorflow.python.ops.init_ops) with dtype is deprecated and will be removed in a future version.\n",
      "Instructions for updating:\n",
      "Call initializer instance with the dtype argument instead of passing it to the constructor\n",
      "WARNING:tensorflow:From C:\\Users\\sayus\\miniconda3\\envs\\te\\lib\\site-packages\\tensorflow\\python\\ops\\init_ops.py:97: calling Ones.__init__ (from tensorflow.python.ops.init_ops) with dtype is deprecated and will be removed in a future version.\n",
      "Instructions for updating:\n",
      "Call initializer instance with the dtype argument instead of passing it to the constructor\n"
     ]
    }
   ],
   "source": [
    "model=load_model('densenet_weights_7.h5')"
   ]
  },
  {
   "cell_type": "code",
   "execution_count": 21,
   "metadata": {},
   "outputs": [
    {
     "name": "stdout",
     "output_type": "stream",
     "text": [
      "633/633 [==============================] - 8s 12ms/sample - loss: 1.1776 - acc: 0.6272\n"
     ]
    }
   ],
   "source": [
    "prediction=model.predict(x_test)\n",
    "evalution=model.evaluate(x_test, y_test)"
   ]
  },
  {
   "cell_type": "code",
   "execution_count": 22,
   "metadata": {},
   "outputs": [
    {
     "data": {
      "text/plain": [
       "(array([2, 0, 3, 2, 3, 1, 2, 1, 1, 0], dtype=int64),\n",
       " array([0, 0, 0, 0, 3, 2, 1, 2, 1, 0], dtype=int64))"
      ]
     },
     "execution_count": 22,
     "metadata": {},
     "output_type": "execute_result"
    }
   ],
   "source": [
    "np.argmax(prediction, axis=1)[10:20],np.argmax(y_test, axis=1)[10:20]"
   ]
  },
  {
   "cell_type": "code",
   "execution_count": 23,
   "metadata": {},
   "outputs": [
    {
     "data": {
      "text/plain": [
       "array([[109,  13,  10,  15],\n",
       "       [ 12, 130,  16,  12],\n",
       "       [ 19,  32,  84,  24],\n",
       "       [ 26,  25,  32,  74]], dtype=int64)"
      ]
     },
     "execution_count": 23,
     "metadata": {},
     "output_type": "execute_result"
    }
   ],
   "source": [
    "cf=confusion_matrix(np.argmax(y_test, axis=1),np.argmax(prediction,axis=1))\n",
    "cf"
   ]
  },
  {
   "cell_type": "code",
   "execution_count": 24,
   "metadata": {},
   "outputs": [],
   "source": [
    "normalized_cf=[]\n",
    "for x in cf:\n",
    "    normalized_cf.append(x/sum(x))"
   ]
  },
  {
   "cell_type": "code",
   "execution_count": 25,
   "metadata": {},
   "outputs": [
    {
     "data": {
      "text/plain": [
       "array([[0.7414966 , 0.08843537, 0.06802721, 0.10204082],\n",
       "       [0.07058824, 0.76470588, 0.09411765, 0.07058824],\n",
       "       [0.11949686, 0.20125786, 0.52830189, 0.1509434 ],\n",
       "       [0.1656051 , 0.15923567, 0.20382166, 0.47133758]])"
      ]
     },
     "execution_count": 25,
     "metadata": {},
     "output_type": "execute_result"
    }
   ],
   "source": [
    "normalized_cf=np.array(normalized_cf)\n",
    "normalized_cf"
   ]
  },
  {
   "cell_type": "code",
   "execution_count": 26,
   "metadata": {},
   "outputs": [
    {
     "data": {
      "image/png": "[encoded data removed]",
      "text/plain": [
       "<Figure size 432x288 with 2 Axes>"
      ]
     },
     "metadata": {
      "needs_background": "light"
     },
     "output_type": "display_data"
    }
   ],
   "source": [
    "labels=['No Damage','Flexural','Shear','Combined']\n",
    "fig = plt.figure()\n",
    "ax = fig.add_subplot(111)\n",
    "cax = ax.matshow(normalized_cf)\n",
    "fig.colorbar(cax)\n",
    "ax.set_xticklabels([''] + labels)\n",
    "ax.set_yticklabels([''] + labels)\n",
    "plt.xlabel('Predicted')\n",
    "plt.ylabel('True')\n",
    "plt.show()"
   ]
  },
  {
   "cell_type": "code",
   "execution_count": null,
   "metadata": {},
   "outputs": [],
   "source": []
  }
 ],
 "metadata": {
  "kernelspec": {
   "display_name": "Python 3",
   "language": "python",
   "name": "python3"
  },
  "language_info": {
   "codemirror_mode": {
    "name": "ipython",
    "version": 3
   },
   "file_extension": ".py",
   "mimetype": "text/x-python",
   "name": "python",
   "nbconvert_exporter": "python",
   "pygments_lexer": "ipython3",
   "version": "3.6.10"
  }
 },
 "nbformat": 4,
 "nbformat_minor": 4
}
